{
 "cells": [
  {
   "cell_type": "markdown",
   "metadata": {},
   "source": [
    "# Bonus1: Parallel Algorithms - Decentralized Optimization\n",
    "\n",
    "### Name: Connor DePalma\n"
   ]
  },
  {
   "cell_type": "markdown",
   "metadata": {},
   "source": [
    "## 0. You will do the following:\n",
    "\n",
    "1. Read the lecture note: [click here](https://github.com/wangshusen/DeepLearning/blob/master/LectureNotes/Parallel/Parallel.pdf)\n",
    "\n",
    "2. Implement federated averaging or decentralized optimization.\n",
    "\n",
    "3. Plot the convergence curve. (The x-axis can be ```number of epochs``` or ```number of communication```. You must make sure the label is correct.)\n",
    "\n",
    "4. Convert the .IPYNB file to .HTML file.\n",
    "\n",
    "    * The HTML file must contain **the code** and **the output after execution**.\n",
    "    \n",
    "5. Upload this .HTML file to your Google Drive, Dropbox, or your Github repo. (If it is submitted to Google Drive or Dropbox, you must make the file open-access.)\n",
    "\n",
    "6. Submit the link to this .HTML file to Canvas.\n",
    "\n",
    "    * Example: https://github.com/wangshusen/CS583-2020S/blob/master/homework/Bonus1/Bonus1.html\n",
    "\n"
   ]
  },
  {
   "cell_type": "markdown",
   "metadata": {},
   "source": [
    "# 1. Data processing\n",
    "\n",
    "- Download the Diabete dataset from https://www.csie.ntu.edu.tw/~cjlin/libsvmtools/datasets/binary/diabetes\n",
    "- Load the data using sklearn.\n",
    "- Preprocess the data."
   ]
  },
  {
   "cell_type": "markdown",
   "metadata": {},
   "source": [
    "## 1.1. Load the data"
   ]
  },
  {
   "cell_type": "code",
   "execution_count": 1,
   "metadata": {},
   "outputs": [
    {
     "name": "stdout",
     "output_type": "stream",
     "text": [
      "Shape of x: (768, 8)\n",
      "Shape of y: (768,)\n"
     ]
    }
   ],
   "source": [
    "from sklearn import datasets\n",
    "import numpy as np\n",
    "import threading # I attempted using Ray, but it doesn't seem to work well with my design\n",
    "\n",
    "x_sparse, y = datasets.load_svmlight_file('diabetes')\n",
    "x = x_sparse.todense()\n",
    "\n",
    "print('Shape of x: ' + str(x.shape))\n",
    "print('Shape of y: ' + str(y.shape))"
   ]
  },
  {
   "cell_type": "markdown",
   "metadata": {},
   "source": [
    "## 1.2. Partition to training and test sets"
   ]
  },
  {
   "cell_type": "code",
   "execution_count": 2,
   "metadata": {},
   "outputs": [
    {
     "name": "stdout",
     "output_type": "stream",
     "text": [
      "Shape of x_train: (640, 8)\n",
      "Shape of x_test: (128, 8)\n",
      "Shape of y_train: (640, 1)\n",
      "Shape of y_test: (128, 1)\n"
     ]
    }
   ],
   "source": [
    "# partition the data to training and test sets\n",
    "n = x.shape[0]\n",
    "n_train = 640\n",
    "n_test = n - n_train\n",
    "\n",
    "rand_indices = np.random.permutation(n)\n",
    "train_indices = rand_indices[0:n_train]\n",
    "test_indices = rand_indices[n_train:n]\n",
    "\n",
    "x_train = x[train_indices, :]\n",
    "x_test = x[test_indices, :]\n",
    "y_train = y[train_indices].reshape(n_train, 1)\n",
    "y_test = y[test_indices].reshape(n_test, 1)\n",
    "\n",
    "print('Shape of x_train: ' + str(x_train.shape))\n",
    "print('Shape of x_test: ' + str(x_test.shape))\n",
    "print('Shape of y_train: ' + str(y_train.shape))\n",
    "print('Shape of y_test: ' + str(y_test.shape))"
   ]
  },
  {
   "cell_type": "markdown",
   "metadata": {},
   "source": [
    "## 1.3. Feature scaling"
   ]
  },
  {
   "cell_type": "markdown",
   "metadata": {},
   "source": [
    "Use the standardization to trainsform both training and test features"
   ]
  },
  {
   "cell_type": "code",
   "execution_count": 3,
   "metadata": {},
   "outputs": [
    {
     "name": "stdout",
     "output_type": "stream",
     "text": [
      "test mean = \n",
      "[[-0.00328312 -0.21992185 -0.04358065  0.0322413  -0.0207484  -0.24306572\n",
      "   0.09646102 -0.17374621]]\n",
      "test std = \n",
      "[[1.06310634 1.01234093 0.89041948 0.94309033 0.94134724 1.01471169\n",
      "  1.16819045 0.95856018]]\n"
     ]
    }
   ],
   "source": [
    "# Standardization\n",
    "import numpy\n",
    "\n",
    "# calculate mu and sig using the training set\n",
    "d = x_train.shape[1]\n",
    "mu = numpy.mean(x_train, axis=0).reshape(1, d)\n",
    "sig = numpy.std(x_train, axis=0).reshape(1, d)\n",
    "\n",
    "# transform the training features\n",
    "x_train = (x_train - mu) / (sig + 1E-6)\n",
    "\n",
    "# transform the test features\n",
    "x_test = (x_test - mu) / (sig + 1E-6)\n",
    "\n",
    "print('test mean = ')\n",
    "print(numpy.mean(x_test, axis=0))\n",
    "\n",
    "print('test std = ')\n",
    "print(numpy.std(x_test, axis=0))"
   ]
  },
  {
   "cell_type": "markdown",
   "metadata": {},
   "source": [
    "## 1.4. Add a dimension of all ones"
   ]
  },
  {
   "cell_type": "code",
   "execution_count": 4,
   "metadata": {},
   "outputs": [
    {
     "name": "stdout",
     "output_type": "stream",
     "text": [
      "Shape of x_train: (640, 9)\n",
      "Shape of x_test: (128, 9)\n"
     ]
    }
   ],
   "source": [
    "n_train, d = x_train.shape\n",
    "x_train = numpy.concatenate((x_train, numpy.ones((n_train, 1))), axis=1)\n",
    "\n",
    "n_test, d = x_test.shape\n",
    "x_test = numpy.concatenate((x_test, numpy.ones((n_test, 1))), axis=1)\n",
    "\n",
    "print('Shape of x_train: ' + str(x_train.shape))\n",
    "print('Shape of x_test: ' + str(x_test.shape))"
   ]
  },
  {
   "cell_type": "markdown",
   "metadata": {},
   "source": [
    "## 1.5 Create Class for Nodes "
   ]
  },
  {
   "cell_type": "code",
   "execution_count": 5,
   "metadata": {},
   "outputs": [],
   "source": [
    "class Node:\n",
    "    def __init__(self, x, y, weight=None):\n",
    "        \n",
    "        self.p = x.shape[0]\n",
    "        self.d = x.shape[1] # num features\n",
    "        self.w = np.zeros((self.d,1))\n",
    "        self.w_hist = []\n",
    "        \n",
    "        indices = np.random.permutation(self.p)\n",
    "        self.x = x[indices,:]\n",
    "        self.y = y[indices,:]\n",
    "        \n",
    "        self.weight = weight\n",
    "        \n",
    "        self.connections = []\n",
    "\n",
    "\n",
    "    def connect_node(self, node):\n",
    "        self.connections.append(node)\n",
    "        \n",
    "    def get_param_hist(self):\n",
    "        return self.w_hist\n",
    "        \n",
    "    def get_param(self):\n",
    "        return self.w\n",
    "    \n",
    "    def collect_neighbor(self):\n",
    "        weight = None\n",
    "        n_weight = None\n",
    "        if self.weight == None:\n",
    "            # all weights the same\n",
    "            n_weight = 1.0 / (len(self.connections)+1) \n",
    "            weight = n_weight\n",
    "        else:\n",
    "            # use the weight value for main node\n",
    "            # distribute the rest to neighbors\n",
    "            # total weight should be 1.0\n",
    "            weight = self.weight\n",
    "            n_weight = (1.0 - weight)/len(self.connections)\n",
    "        \n",
    "        w = np.zeros((self.d,1))\n",
    "        for node in self.connections:\n",
    "            w = w + node.get_param()*n_weight            \n",
    "        w = w + self.w*weight\n",
    "        return w\n",
    "            \n",
    "      \n",
    "    def gradient(self,lam):\n",
    "        yx = numpy.multiply(self.y,self.x)\n",
    "        yxw = numpy.dot(yx, self.w) \n",
    "        mat = -yx / (1 + numpy.exp(yxw)) \n",
    "        g = np.mean(mat, axis=0).reshape(self.d,1) \n",
    "        return g + lam*self.w\n",
    "    \n",
    "    \n",
    "    def gd(self, l, lam, epochs):\n",
    "        \n",
    "        for i in range(epochs):\n",
    "            grad = self.gradient(lam)\n",
    "            w_collected = self.collect_neighbor()\n",
    "            self.w = w_collected - l * grad\n",
    "            # collect history of w for each Node\n",
    "            # can get objective values for each epoch post-simulation\n",
    "            # as described in the paper\n",
    "            self.w_hist.append(self.w)\n",
    "                "
   ]
  },
  {
   "cell_type": "markdown",
   "metadata": {},
   "source": [
    "## 1.6 Create Function to Run Simulation "
   ]
  },
  {
   "cell_type": "code",
   "execution_count": 6,
   "metadata": {},
   "outputs": [],
   "source": [
    "def loss(x,y,w):\n",
    "    yx = numpy.multiply(y,x)\n",
    "    yxw = numpy.dot(yx, w)\n",
    "    # calculate loss\n",
    "    loss = numpy.log(1 + numpy.exp(-yxw)) \n",
    "    return np.mean(loss)\n",
    "\n",
    "\n",
    "def Dec_Opt_Sim(x,y,l,lam,epochs,weight=None):\n",
    "    \n",
    "    num_nodes = 7\n",
    "    \n",
    "    nodes = []\n",
    "    n,d = x_train.shape\n",
    "    sections = n//num_nodes\n",
    "    \n",
    "    for i in range(num_nodes):\n",
    "        node = Node(x_train[i*sections:(i+1)*sections,:],y_train[i*sections:(i+1)*sections,:], weight)\n",
    "        nodes.append(node)\n",
    "    \n",
    "    # Make connections like picture in assignment\n",
    "    # Connection go from left to right\n",
    "    \n",
    "    nodes[0].connect_node(nodes[1])\n",
    "    nodes[0].connect_node(nodes[2])\n",
    "    \n",
    "    nodes[1].connect_node(nodes[0])\n",
    "    nodes[1].connect_node(nodes[2])\n",
    "    nodes[1].connect_node(nodes[3])\n",
    "    \n",
    "    nodes[2].connect_node(nodes[0])\n",
    "    nodes[2].connect_node(nodes[1])\n",
    "    nodes[2].connect_node(nodes[4])\n",
    "    \n",
    "    nodes[3].connect_node(nodes[1])\n",
    "    nodes[3].connect_node(nodes[4])\n",
    "        \n",
    "    nodes[4].connect_node(nodes[2])\n",
    "    nodes[4].connect_node(nodes[3])\n",
    "    nodes[4].connect_node(nodes[5])\n",
    "    nodes[4].connect_node(nodes[6])\n",
    "    \n",
    "    nodes[5].connect_node(nodes[4])\n",
    "    nodes[5].connect_node(nodes[6])\n",
    "    \n",
    "    nodes[6].connect_node(nodes[4])\n",
    "    nodes[6].connect_node(nodes[5])\n",
    "    \n",
    "    # Run Sim using Threading\n",
    "    threads = []\n",
    "    for node in nodes:\n",
    "        thread = (threading.Thread(target=node.gd, args=(l,lam,epochs)))\n",
    "        thread.start()\n",
    "        threads.append(thread)\n",
    "    \n",
    "    for thread in threads:\n",
    "        thread.join()\n",
    "         \n",
    "    # Collect results\n",
    "    w = np.zeros((d,1))\n",
    "    w_hist = np.zeros((d,epochs))\n",
    "\n",
    "    \n",
    "    for node in nodes:\n",
    "        w += node.get_param()\n",
    "        w_hist += np.array(node.get_param_hist())[:,:,0].T\n",
    "        \n",
    "    w /= num_nodes # Average final w value from each node\n",
    "    w_hist /= num_nodes # Average w values from each node for at each epoch\n",
    "    \n",
    "    obj = []\n",
    "    for i in range(epochs):\n",
    "        l = loss(x_train,y_train,w_hist[:,i]) # get loss values at each epoch\n",
    "        reg = lam/2 * np.dot(w_hist[:,i].T,w_hist[:,i]).item() # since I used regularized term for the gradients\n",
    "        objval = l + reg\n",
    "        obj.append(objval)\n",
    "    \n",
    "    return w, obj"
   ]
  },
  {
   "cell_type": "markdown",
   "metadata": {},
   "source": [
    "## 1.7 Run Simulations "
   ]
  },
  {
   "cell_type": "code",
   "execution_count": 7,
   "metadata": {},
   "outputs": [],
   "source": [
    "l = 1E-1\n",
    "lam = 1E-6\n",
    "epochs = 250\n",
    "\n",
    "w, obj = Dec_Opt_Sim(x_train,y_train,l,lam,epochs,weight=None)\n",
    "w_weight, obj_weight = Dec_Opt_Sim(x_train,y_train,l,lam,epochs,weight=0.8)"
   ]
  },
  {
   "cell_type": "markdown",
   "metadata": {},
   "source": [
    "## 1.8 Look at Results "
   ]
  },
  {
   "cell_type": "code",
   "execution_count": 8,
   "metadata": {},
   "outputs": [
    {
     "data": {
      "image/png": "[encoded data removed]",
      "text/plain": [
       "<Figure size 720x432 with 1 Axes>"
      ]
     },
     "metadata": {
      "needs_background": "light"
     },
     "output_type": "display_data"
    }
   ],
   "source": [
    "import matplotlib.pyplot as plt\n",
    "%matplotlib inline\n",
    "\n",
    "fig = plt.figure(figsize=(10, 6))\n",
    "\n",
    "epochs_range = range(epochs)\n",
    "\n",
    "line0, = plt.plot(epochs_range, obj, '--b', linewidth=1)\n",
    "line1, = plt.plot(epochs_range, obj_weight, '-r', linewidth=1)\n",
    "\n",
    "plt.xlabel('Epochs', fontsize=20)\n",
    "plt.ylabel('Objective Value', fontsize=20)\n",
    "plt.xticks(fontsize=16)\n",
    "plt.yticks(fontsize=16)\n",
    "plt.legend([line0, line1], ['Simple', 'Weighted'], fontsize=20)\n",
    "plt.show()"
   ]
  },
  {
   "cell_type": "code",
   "execution_count": 9,
   "metadata": {},
   "outputs": [],
   "source": [
    "def predict(w, X):\n",
    "    xw = numpy.dot(X, w)\n",
    "    f = numpy.sign(xw)\n",
    "    return f"
   ]
  },
  {
   "cell_type": "code",
   "execution_count": 10,
   "metadata": {},
   "outputs": [
    {
     "name": "stdout",
     "output_type": "stream",
     "text": [
      "testing classification error with weighting is 0.2109375\n",
      "testing classification error without weighting is 0.2109375\n"
     ]
    }
   ],
   "source": [
    "# evaluate test errors\n",
    "f_test_w = predict(w_weight, x_test)\n",
    "f_test_uw = predict(w, x_test)\n",
    "\n",
    "\n",
    "diff_w = numpy.abs(f_test_w - y_test) / 2\n",
    "diff_uw = numpy.abs(f_test_uw - y_test) / 2\n",
    "\n",
    "\n",
    "error_test_w = numpy.mean(diff_w)\n",
    "error_test_uw = numpy.mean(diff_uw)\n",
    "\n",
    "\n",
    "print('testing classification error with weighting is ' + str(error_test_w))\n",
    "print('testing classification error without weighting is ' + str(error_test_uw))"
   ]
  },
  {
   "cell_type": "code",
   "execution_count": null,
   "metadata": {},
   "outputs": [],
   "source": []
  }
 ],
 "metadata": {
  "kernelspec": {
   "display_name": "CSDL",
   "language": "python",
   "name": "csdl"
  },
  "language_info": {
   "codemirror_mode": {
    "name": "ipython",
    "version": 3
   },
   "file_extension": ".py",
   "mimetype": "text/x-python",
   "name": "python",
   "nbconvert_exporter": "python",
   "pygments_lexer": "ipython3",
   "version": "3.8.5"
  }
 },
 "nbformat": 4,
 "nbformat_minor": 4
}
