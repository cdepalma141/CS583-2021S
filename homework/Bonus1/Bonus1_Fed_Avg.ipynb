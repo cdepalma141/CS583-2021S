{
 "cells": [
  {
   "cell_type": "markdown",
   "metadata": {},
   "source": [
    "# Bonus1: Parallel Algorithms - Federated Averaging\n",
    "\n",
    "### Name: Connor DePalma\n"
   ]
  },
  {
   "cell_type": "markdown",
   "metadata": {},
   "source": [
    "## 0. You will do the following:\n",
    "\n",
    "1. Read the lecture note: [click here](https://github.com/wangshusen/DeepLearning/blob/master/LectureNotes/Parallel/Parallel.pdf)\n",
    "\n",
    "2. Implement federated averaging or decentralized optimization.\n",
    "\n",
    "3. Plot the convergence curve. (The x-axis can be ```number of epochs``` or ```number of communication```. You must make sure the label is correct.)\n",
    "\n",
    "4. Convert the .IPYNB file to .HTML file.\n",
    "\n",
    "    * The HTML file must contain **the code** and **the output after execution**.\n",
    "    \n",
    "5. Upload this .HTML file to your Google Drive, Dropbox, or your Github repo. (If it is submitted to Google Drive or Dropbox, you must make the file open-access.)\n",
    "\n",
    "6. Submit the link to this .HTML file to Canvas.\n",
    "\n",
    "    * Example: https://github.com/wangshusen/CS583-2020S/blob/master/homework/Bonus1/Bonus1.html\n",
    "\n"
   ]
  },
  {
   "cell_type": "code",
   "execution_count": null,
   "metadata": {},
   "outputs": [],
   "source": []
  },
  {
   "cell_type": "markdown",
   "metadata": {},
   "source": [
    "# 1. Data processing\n",
    "\n",
    "- Download the Diabete dataset from https://www.csie.ntu.edu.tw/~cjlin/libsvmtools/datasets/binary/diabetes\n",
    "- Load the data using sklearn.\n",
    "- Preprocess the data."
   ]
  },
  {
   "cell_type": "markdown",
   "metadata": {},
   "source": [
    "## 1.1. Load the data"
   ]
  },
  {
   "cell_type": "code",
   "execution_count": 1,
   "metadata": {},
   "outputs": [
    {
     "name": "stdout",
     "output_type": "stream",
     "text": [
      "Shape of x: (768, 8)\n",
      "Shape of y: (768,)\n"
     ]
    }
   ],
   "source": [
    "from sklearn import datasets\n",
    "import numpy as np\n",
    "import ray # For parrallel processing\n",
    "\n",
    "x_sparse, y = datasets.load_svmlight_file('diabetes')\n",
    "x = x_sparse.todense()\n",
    "\n",
    "print('Shape of x: ' + str(x.shape))\n",
    "print('Shape of y: ' + str(y.shape))"
   ]
  },
  {
   "cell_type": "markdown",
   "metadata": {},
   "source": [
    "## 1.2. Partition to training and test sets"
   ]
  },
  {
   "cell_type": "code",
   "execution_count": 2,
   "metadata": {},
   "outputs": [
    {
     "name": "stdout",
     "output_type": "stream",
     "text": [
      "Shape of x_train: (640, 8)\n",
      "Shape of x_test: (128, 8)\n",
      "Shape of y_train: (640, 1)\n",
      "Shape of y_test: (128, 1)\n"
     ]
    }
   ],
   "source": [
    "# partition the data to training and test sets\n",
    "n = x.shape[0]\n",
    "n_train = 640\n",
    "n_test = n - n_train\n",
    "\n",
    "rand_indices = np.random.permutation(n)\n",
    "train_indices = rand_indices[0:n_train]\n",
    "test_indices = rand_indices[n_train:n]\n",
    "\n",
    "x_train = x[train_indices, :]\n",
    "x_test = x[test_indices, :]\n",
    "y_train = y[train_indices].reshape(n_train, 1)\n",
    "y_test = y[test_indices].reshape(n_test, 1)\n",
    "\n",
    "print('Shape of x_train: ' + str(x_train.shape))\n",
    "print('Shape of x_test: ' + str(x_test.shape))\n",
    "print('Shape of y_train: ' + str(y_train.shape))\n",
    "print('Shape of y_test: ' + str(y_test.shape))"
   ]
  },
  {
   "cell_type": "markdown",
   "metadata": {},
   "source": [
    "## 1.3. Feature scaling"
   ]
  },
  {
   "cell_type": "markdown",
   "metadata": {},
   "source": [
    "Use the standardization to trainsform both training and test features"
   ]
  },
  {
   "cell_type": "code",
   "execution_count": 3,
   "metadata": {},
   "outputs": [
    {
     "name": "stdout",
     "output_type": "stream",
     "text": [
      "test mean = \n",
      "[[-0.00045578  0.04508916  0.05012652  0.25889915  0.02681703 -0.00311605\n",
      "  -0.02336612 -0.04445211]]\n",
      "test std = \n",
      "[[0.88823886 1.15667411 0.93545276 1.01212056 1.18823563 0.92718506\n",
      "  0.85664324 0.98752362]]\n"
     ]
    }
   ],
   "source": [
    "# Standardization\n",
    "import numpy\n",
    "\n",
    "# calculate mu and sig using the training set\n",
    "d = x_train.shape[1]\n",
    "mu = numpy.mean(x_train, axis=0).reshape(1, d)\n",
    "sig = numpy.std(x_train, axis=0).reshape(1, d)\n",
    "\n",
    "# transform the training features\n",
    "x_train = (x_train - mu) / (sig + 1E-6)\n",
    "\n",
    "# transform the test features\n",
    "x_test = (x_test - mu) / (sig + 1E-6)\n",
    "\n",
    "print('test mean = ')\n",
    "print(numpy.mean(x_test, axis=0))\n",
    "\n",
    "print('test std = ')\n",
    "print(numpy.std(x_test, axis=0))"
   ]
  },
  {
   "cell_type": "markdown",
   "metadata": {},
   "source": [
    "## 1.4. Add a dimension of all ones"
   ]
  },
  {
   "cell_type": "code",
   "execution_count": 4,
   "metadata": {},
   "outputs": [
    {
     "name": "stdout",
     "output_type": "stream",
     "text": [
      "Shape of x_train: (640, 9)\n",
      "Shape of x_test: (128, 9)\n"
     ]
    }
   ],
   "source": [
    "n_train, d = x_train.shape\n",
    "x_train = numpy.concatenate((x_train, numpy.ones((n_train, 1))), axis=1)\n",
    "\n",
    "n_test, d = x_test.shape\n",
    "x_test = numpy.concatenate((x_test, numpy.ones((n_test, 1))), axis=1)\n",
    "\n",
    "print('Shape of x_train: ' + str(x_train.shape))\n",
    "print('Shape of x_test: ' + str(x_test.shape))"
   ]
  },
  {
   "cell_type": "markdown",
   "metadata": {},
   "source": [
    "## 1.5 Create Class for Worker Nodes "
   ]
  },
  {
   "cell_type": "code",
   "execution_count": 5,
   "metadata": {},
   "outputs": [],
   "source": [
    "@ray.remote # Each worker node will be a Ray Actor\n",
    "class Worker:\n",
    "    def __init__(self, x, y):\n",
    "        \n",
    "        self.p = x.shape[0] # Num local samples\n",
    "        self.d = x.shape[1] # num features\n",
    "        self.w = np.zeros((d,1))\n",
    "        self.obj = 0\n",
    "        self.objval = 0\n",
    "        \n",
    "        self.current_idx = 0 # Track samples for SGD \n",
    "        indices = np.random.permutation(self.p)\n",
    "        self.x = x[indices,:]\n",
    "        self.y = y[indices,:]\n",
    "\n",
    "    def restart(self):\n",
    "        self.w = np.zeros((self.d,1))\n",
    "        self.obj = 0\n",
    "        \n",
    "        self.current_idx = 0\n",
    "        indices = np.random.permutation(self.p)\n",
    "        self.x = self.x[indices,:]\n",
    "        self.y = self.y[indices,:]\n",
    "    \n",
    "    def set_param(self, w):\n",
    "        self.w = w\n",
    "    \n",
    "    def get_param(self):\n",
    "        return self.w\n",
    "    \n",
    "    def get_obj(self):\n",
    "        return self.obj\n",
    "        \n",
    "    def loss(self, x, y):\n",
    "        yx = numpy.multiply(y,x)\n",
    "        yxw = numpy.dot(yx, self.w) \n",
    "        # calculate loss\n",
    "        loss = numpy.log(1 + numpy.exp(-yxw)) \n",
    "        return np.mean(loss)\n",
    "      \n",
    "    def gradient(self, x, y):\n",
    "        yx = numpy.multiply(y,x) \n",
    "        yxw = numpy.dot(yx, self.w) \n",
    "        mat = -yx / (1 + numpy.exp(yxw)) \n",
    "        g = np.mean(mat, axis=0).reshape(self.d,1)\n",
    "        return g\n",
    "    \n",
    "    def gd_sgd(self, q, l, lam, GD=True):\n",
    "        x = None\n",
    "        y = None\n",
    "        if q > 1 and GD:\n",
    "            # q obj values should be captured per iteration since \n",
    "            # one iteration is one epoch for GD\n",
    "            self.obj = []\n",
    "        \n",
    "        for i in range(q):\n",
    "            if GD:  \n",
    "                x = self.x\n",
    "                y = self.y\n",
    "                \n",
    "                if q > 1:\n",
    "                    # Each iteration here is one epoch\n",
    "                    # objval should be returned as an array\n",
    "                    objval = self.loss(x,y)\n",
    "                    reg = lam/2 * np.dot(self.w.T,self.w).item()\n",
    "                    obj = objval + reg\n",
    "                    self.obj.append(obj)\n",
    "                else:    \n",
    "                    objval = self.loss(x,y)\n",
    "                    reg = lam/2 * np.dot(self.w.T,self.w).item()\n",
    "                    self.obj = objval + reg\n",
    "                \n",
    "                g = self.gradient(x,y)\n",
    "                grad = g + lam*self.w\n",
    "                self.w = self.w - l * grad\n",
    "                \n",
    "            elif not GD:\n",
    "                x = self.x[self.current_idx,:].reshape(1,self.d)\n",
    "                y = self.y[self.current_idx,:]\n",
    "                reg = lam/2 * np.dot(self.w.T,self.w).item()\n",
    "                self.objval += self.loss(x,y) + reg\n",
    "\n",
    "                if self.current_idx == self.p - 1:\n",
    "                    # One epoch complete for SGD\n",
    "                    self.obj = self.objval/self.p\n",
    "                    self.current_idx = 0 \n",
    "                    self.objval = 0\n",
    "                    # shuffle for next epoch\n",
    "                    indices = np.random.permutation(self.p)\n",
    "                    self.x = self.x[indices,:]\n",
    "                    self.y = self.y[indices,:]\n",
    "        \n",
    "                self.current_idx += 1\n",
    "                \n",
    "                g = self.gradient(x,y)\n",
    "                grad = g + lam*self.w\n",
    "                self.w = self.w - l * grad"
   ]
  },
  {
   "cell_type": "markdown",
   "metadata": {},
   "source": [
    "## 1.6 Create Class for Server "
   ]
  },
  {
   "cell_type": "code",
   "execution_count": 6,
   "metadata": {},
   "outputs": [],
   "source": [
    "class Server:\n",
    "    def __init__(self, workers, n, d, q, l, lam, epoch):\n",
    "        self.workers = workers\n",
    "        self.q = q\n",
    "        self.l = l\n",
    "        self.d = d\n",
    "        self.n = n\n",
    "        self.lam = lam\n",
    "        self.epoch = epoch\n",
    "        self.w = np.zeros((d,1))\n",
    "        self.obj = np.zeros((self.epoch,1))\n",
    "\n",
    "    \n",
    "    def restart(self):\n",
    "        self.w = np.zeros((d,1))\n",
    "        self.obj = np.zeros((self.epoch,1))\n",
    "        for worker in self.workers:\n",
    "            worker.restart.remote()\n",
    "    \n",
    "    def broadcast(self):\n",
    "        for worker in self.workers:\n",
    "            worker.set_param.remote(self.w)\n",
    "            \n",
    "    def get_param(self):\n",
    "        return self.w\n",
    "    \n",
    "    def get_obj(self):\n",
    "        return self.obj\n",
    "\n",
    "    def aggregate_obj(self):\n",
    "        nz = np.count_nonzero(self.obj)\n",
    "        for worker in self.workers:\n",
    "            obj = ray.get(worker.get_obj.remote())\n",
    "            obj = [obj] if np.isscalar(obj) else np.array(obj).reshape(len(obj),1)\n",
    "            self.obj[nz:nz+len(obj),:] =  self.obj[nz:nz+len([obj]),:] + obj\n",
    "        self.obj[nz:nz+len(obj),:] =  self.obj[nz:nz+len(obj),:]/len(self.workers)\n",
    "            \n",
    "    def aggregate(self):\n",
    "        self.w = np.zeros((self.d,1))\n",
    "        for worker in self.workers:\n",
    "            w = ray.get(worker.get_param.remote())\n",
    "            self.w += w\n",
    "        self.w /= len(self.workers)\n",
    "#         self.l *= 0.9\n",
    "    \n",
    "    def gd_sgd(self, GD=True):\n",
    "        self.obj = np.zeros((self.epoch,1))\n",
    "        \n",
    "        p = self.n/len(self.workers)\n",
    "        b = p if GD else 1\n",
    "        comm_per_epoch = p/(self.q*b)\n",
    "        print(f\"Communications Per Epoch: {comm_per_epoch}\")\n",
    "        \n",
    "        comm = comm_per_epoch*self.epoch # should set epoch as multiple of 8 to have an integer number of communications when q=8 for GD\n",
    "        print(f\"Total Communications needed: {comm}\")\n",
    "        for i in range(int(np.ceil(comm))):\n",
    "            self.broadcast()\n",
    "            for worker in self.workers:\n",
    "                worker.gd_sgd.remote(self.q, self.l, self.lam, GD)\n",
    "            self.aggregate()   \n",
    "            if GD:\n",
    "                self.aggregate_obj() # get obj values for each communication with GD\n",
    "            elif not GD:\n",
    "                if (i+1)%(int(comm_per_epoch)) == 0:\n",
    "                    self.aggregate_obj() # Only get obj values once a full epoch has occured for SGD\n",
    "        "
   ]
  },
  {
   "cell_type": "markdown",
   "metadata": {},
   "source": [
    "## 1.7 Create Function to Run Simulation "
   ]
  },
  {
   "cell_type": "code",
   "execution_count": 7,
   "metadata": {},
   "outputs": [],
   "source": [
    "def Fed_Avg_Sim(x,y,m,l,lam,q,GD,epochs):\n",
    "    \n",
    "    ray.shutdown()\n",
    "    ray.init(num_cpus=4, ignore_reinit_error=True)\n",
    "    \n",
    "    workers = []\n",
    "    n,d = x_train.shape\n",
    "    sections = n//m\n",
    "    \n",
    "    for i in range(m):\n",
    "        worker = Worker.remote(x_train[i*sections:(i+1)*sections,:],y_train[i*sections:(i+1)*sections,:])\n",
    "        workers.append(worker)\n",
    "        \n",
    "    S = Server(workers, n, d, q, l, lam, epochs)\n",
    "    S.gd_sgd(GD)\n",
    "    w = S.get_param()\n",
    "    obj = S.get_obj()\n",
    "    \n",
    "    return w, obj "
   ]
  },
  {
   "cell_type": "markdown",
   "metadata": {},
   "source": [
    "## 1.8 Run Specified Simulations "
   ]
  },
  {
   "cell_type": "code",
   "execution_count": 8,
   "metadata": {},
   "outputs": [
    {
     "name": "stdout",
     "output_type": "stream",
     "text": [
      "Running Sim for SGD w/ q = 1\n"
     ]
    },
    {
     "name": "stderr",
     "output_type": "stream",
     "text": [
      "2021-04-11 22:56:04,359\tINFO services.py:1172 -- View the Ray dashboard at \u001b[1m\u001b[32mhttp://127.0.0.1:8265\u001b[39m\u001b[22m\n"
     ]
    },
    {
     "name": "stdout",
     "output_type": "stream",
     "text": [
      "Communications Per Epoch: 160.0\n",
      "Total Communications needed: 20480.0\n",
      "\n",
      "Running Sim for SGD w/ q = 8\n"
     ]
    },
    {
     "name": "stderr",
     "output_type": "stream",
     "text": [
      "2021-04-11 22:58:26,672\tINFO services.py:1172 -- View the Ray dashboard at \u001b[1m\u001b[32mhttp://127.0.0.1:8265\u001b[39m\u001b[22m\n"
     ]
    },
    {
     "name": "stdout",
     "output_type": "stream",
     "text": [
      "Communications Per Epoch: 20.0\n",
      "Total Communications needed: 2560.0\n",
      "\n",
      "Running Sim for GD w/ q = 1\n"
     ]
    },
    {
     "name": "stderr",
     "output_type": "stream",
     "text": [
      "2021-04-11 22:58:53,287\tINFO services.py:1172 -- View the Ray dashboard at \u001b[1m\u001b[32mhttp://127.0.0.1:8265\u001b[39m\u001b[22m\n"
     ]
    },
    {
     "name": "stdout",
     "output_type": "stream",
     "text": [
      "Communications Per Epoch: 1.0\n",
      "Total Communications needed: 128.0\n",
      "\n",
      "Running Sim for GD w/ q = 8\n"
     ]
    },
    {
     "name": "stderr",
     "output_type": "stream",
     "text": [
      "2021-04-11 22:58:59,060\tINFO services.py:1172 -- View the Ray dashboard at \u001b[1m\u001b[32mhttp://127.0.0.1:8265\u001b[39m\u001b[22m\n"
     ]
    },
    {
     "name": "stdout",
     "output_type": "stream",
     "text": [
      "Communications Per Epoch: 0.125\n",
      "Total Communications needed: 16.0\n"
     ]
    }
   ],
   "source": [
    "m = 4\n",
    "l = 1E-1\n",
    "lam = 1E-6\n",
    "epochs = 128\n",
    "\n",
    "print(f\"Running Sim for SGD w/ q = 1\")\n",
    "w_sgd_1, obj_sgd_1 = Fed_Avg_Sim(x_train,y_train,m,l,lam,1,False,epochs)\n",
    "print()\n",
    "print(f\"Running Sim for SGD w/ q = 8\")\n",
    "w_sgd_8, obj_sgd_8 = Fed_Avg_Sim(x_train,y_train,m,l,lam,8,False,epochs)\n",
    "print()\n",
    "print(f\"Running Sim for GD w/ q = 1\")\n",
    "w_gd_1, obj_gd_1 = Fed_Avg_Sim(x_train,y_train,m,l,lam,1,True,epochs)\n",
    "print()\n",
    "print(f\"Running Sim for GD w/ q = 8\")\n",
    "w_gd_8, obj_gd_8 = Fed_Avg_Sim(x_train,y_train,m,l,lam,8,True,epochs)"
   ]
  },
  {
   "cell_type": "markdown",
   "metadata": {},
   "source": [
    "## 1.9 Look at Results"
   ]
  },
  {
   "cell_type": "code",
   "execution_count": 9,
   "metadata": {},
   "outputs": [
    {
     "data": {
      "image/png": "[encoded data removed]",
      "text/plain": [
       "<Figure size 1080x720 with 1 Axes>"
      ]
     },
     "metadata": {
      "needs_background": "light"
     },
     "output_type": "display_data"
    }
   ],
   "source": [
    "import matplotlib.pyplot as plt\n",
    "%matplotlib inline\n",
    "\n",
    "fig = plt.figure(figsize=(15, 10))\n",
    "\n",
    "epochs_range = range(epochs)\n",
    "\n",
    "line0, = plt.plot(epochs_range, obj_gd_1, '--b', linewidth=1)\n",
    "line1, = plt.plot(epochs_range, obj_gd_8, '-r', linewidth=1)\n",
    "line2, = plt.plot(epochs_range, obj_sgd_1, '-.c', linewidth=1)\n",
    "line3, = plt.plot(epochs_range, obj_sgd_8, ':g', linewidth=1)\n",
    "\n",
    "plt.xlabel('Epochs', fontsize=20)\n",
    "plt.ylabel('Objective Value', fontsize=20)\n",
    "plt.xticks(fontsize=16)\n",
    "plt.yticks(fontsize=16)\n",
    "plt.legend([line0, line1, line2, line3], ['GD w/ q=1', 'GD w/ q=8', 'SGD w/ q=1', 'SGD w/ q=8'], fontsize=20)\n",
    "plt.show()"
   ]
  },
  {
   "cell_type": "code",
   "execution_count": 10,
   "metadata": {},
   "outputs": [
    {
     "name": "stdout",
     "output_type": "stream",
     "text": [
      "last Objective value for GD w/ q=1 is [0.47341661]\n",
      "last Objective value for GD w/ q=8 is [0.4731754]\n",
      "last Objective value for SGD w/ q=1 is [0.47513435]\n",
      "last Objective value for SGD w/ q=8 is [0.4830383]\n"
     ]
    }
   ],
   "source": [
    "# look at final Objective Function Values\n",
    "\n",
    "print(f\"last Objective value for GD w/ q=1 is {obj_gd_1[-1]}\")\n",
    "print(f\"last Objective value for GD w/ q=8 is {obj_gd_8[-1]}\")\n",
    "print(f\"last Objective value for SGD w/ q=1 is {obj_sgd_1[-1]}\")\n",
    "print(f\"last Objective value for SGD w/ q=8 is {obj_sgd_8[-1]}\")"
   ]
  },
  {
   "cell_type": "code",
   "execution_count": 11,
   "metadata": {},
   "outputs": [],
   "source": [
    "def predict(w, X):\n",
    "    xw = numpy.dot(X, w)\n",
    "    f = numpy.sign(xw)\n",
    "    return f"
   ]
  },
  {
   "cell_type": "code",
   "execution_count": 12,
   "metadata": {},
   "outputs": [
    {
     "name": "stdout",
     "output_type": "stream",
     "text": [
      "testing classification error for GD w/ q=1 is 0.234375\n",
      "testing classification error for GD w/ q=8 is 0.234375\n",
      "testing classification error for SGD w/ q=1 is 0.2265625\n",
      "testing classification error for SGD w/ q=8 is 0.2421875\n"
     ]
    }
   ],
   "source": [
    "# evaluate test errors\n",
    "f_test_gd1 = predict(w_gd_1, x_test)\n",
    "f_test_gd8 = predict(w_gd_8, x_test)\n",
    "f_test_sgd1 = predict(w_sgd_1, x_test)\n",
    "f_test_sgd8 = predict(w_sgd_8, x_test)\n",
    "\n",
    "diff_gd1 = numpy.abs(f_test_gd1 - y_test) / 2\n",
    "diff_gd8 = numpy.abs(f_test_gd8 - y_test) / 2\n",
    "diff_sgd1 = numpy.abs(f_test_sgd1 - y_test) / 2\n",
    "diff_sgd8 = numpy.abs(f_test_sgd8 - y_test) / 2\n",
    "\n",
    "error_test_gd1 = numpy.mean(diff_gd1)\n",
    "error_test_gd8 = numpy.mean(diff_gd8)\n",
    "error_test_sgd1 = numpy.mean(diff_sgd1)\n",
    "error_test_sgd8 = numpy.mean(diff_sgd8)\n",
    "\n",
    "print('testing classification error for GD w/ q=1 is ' + str(error_test_gd1))\n",
    "print('testing classification error for GD w/ q=8 is ' + str(error_test_gd8))\n",
    "print('testing classification error for SGD w/ q=1 is ' + str(error_test_sgd1))\n",
    "print('testing classification error for SGD w/ q=8 is ' + str(error_test_sgd8))"
   ]
  },
  {
   "cell_type": "code",
   "execution_count": null,
   "metadata": {},
   "outputs": [],
   "source": []
  }
 ],
 "metadata": {
  "kernelspec": {
   "display_name": "CSDL",
   "language": "python",
   "name": "csdl"
  },
  "language_info": {
   "codemirror_mode": {
    "name": "ipython",
    "version": 3
   },
   "file_extension": ".py",
   "mimetype": "text/x-python",
   "name": "python",
   "nbconvert_exporter": "python",
   "pygments_lexer": "ipython3",
   "version": "3.8.5"
  }
 },
 "nbformat": 4,
 "nbformat_minor": 4
}
