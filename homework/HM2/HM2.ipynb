{
 "cells": [
  {
   "cell_type": "markdown",
   "metadata": {},
   "source": [
    "# HM2: Numerical Optimization for Logistic Regression.\n",
    "\n",
    "### Name: Connor DePalma\n"
   ]
  },
  {
   "cell_type": "markdown",
   "metadata": {},
   "source": [
    "## 0. You will do the following:\n",
    "\n",
    "1. Read the lecture note: [click here](https://github.com/wangshusen/DeepLearning/blob/master/LectureNotes/Logistic/paper/logistic.pdf)\n",
    "\n",
    "2. Read, complete, and run my code.\n",
    "\n",
    "3. **Implement mini-batch SGD** and evaluate the performance.\n",
    "\n",
    "4. Convert the .IPYNB file to .HTML file.\n",
    "\n",
    "    * The HTML file must contain **the code** and **the output after execution**.\n",
    "    \n",
    "    * Missing **the output after execution** will not be graded.\n",
    "    \n",
    "5. Upload this .HTML file to your Google Drive, Dropbox, or your Github repo.  (If you submit the file to Google Drive or Dropbox, you must make the file \"open-access\". The delay caused by \"deny of access\" may result in late penalty.)\n",
    "\n",
    "6. Submit the link to this .HTML file to Canvas.\n",
    "\n",
    "    * Example: https://github.com/wangshusen/CS583-2020S/blob/master/homework/HM2/HM2.html\n",
    "\n",
    "\n",
    "## Grading criteria:\n",
    "\n",
    "1. When computing the ```gradient``` and ```objective function value``` using a batch of samples, use **matrix-vector multiplication** rather than a FOR LOOP of **vector-vector multiplications**.\n",
    "\n",
    "2. Plot ```objective function value``` against ```epochs```. In the plot, compare GD, SGD, and MB-SGD (with $b=8$ and $b=64$). The plot must look reasonable."
   ]
  },
  {
   "cell_type": "markdown",
   "metadata": {},
   "source": [
    "# 1. Data processing\n",
    "\n",
    "- Download the Diabete dataset from https://www.csie.ntu.edu.tw/~cjlin/libsvmtools/datasets/binary/diabetes\n",
    "- Load the data using sklearn.\n",
    "- Preprocess the data."
   ]
  },
  {
   "cell_type": "markdown",
   "metadata": {},
   "source": [
    "## 1.1. Load the data"
   ]
  },
  {
   "cell_type": "code",
   "execution_count": 1,
   "metadata": {},
   "outputs": [
    {
     "name": "stdout",
     "output_type": "stream",
     "text": [
      "Shape of x: (768, 8)\n",
      "Shape of y: (768,)\n"
     ]
    }
   ],
   "source": [
    "from sklearn import datasets\n",
    "import numpy\n",
    "\n",
    "x_sparse, y = datasets.load_svmlight_file('diabetes')\n",
    "x = x_sparse.todense()\n",
    "\n",
    "print('Shape of x: ' + str(x.shape))\n",
    "print('Shape of y: ' + str(y.shape))"
   ]
  },
  {
   "cell_type": "markdown",
   "metadata": {},
   "source": [
    "## 1.2. Partition to training and test sets"
   ]
  },
  {
   "cell_type": "code",
   "execution_count": 2,
   "metadata": {},
   "outputs": [
    {
     "name": "stdout",
     "output_type": "stream",
     "text": [
      "Shape of x_train: (640, 8)\n",
      "Shape of x_test: (128, 8)\n",
      "Shape of y_train: (640, 1)\n",
      "Shape of y_test: (128, 1)\n"
     ]
    }
   ],
   "source": [
    "# partition the data to training and test sets\n",
    "n = x.shape[0]\n",
    "n_train = 640\n",
    "n_test = n - n_train\n",
    "\n",
    "rand_indices = numpy.random.permutation(n)\n",
    "train_indices = rand_indices[0:n_train]\n",
    "test_indices = rand_indices[n_train:n]\n",
    "\n",
    "x_train = x[train_indices, :]\n",
    "x_test = x[test_indices, :]\n",
    "y_train = y[train_indices].reshape(n_train, 1)\n",
    "y_test = y[test_indices].reshape(n_test, 1)\n",
    "\n",
    "print('Shape of x_train: ' + str(x_train.shape))\n",
    "print('Shape of x_test: ' + str(x_test.shape))\n",
    "print('Shape of y_train: ' + str(y_train.shape))\n",
    "print('Shape of y_test: ' + str(y_test.shape))"
   ]
  },
  {
   "cell_type": "markdown",
   "metadata": {},
   "source": [
    "## 1.3. Feature scaling"
   ]
  },
  {
   "cell_type": "markdown",
   "metadata": {},
   "source": [
    "Use the standardization to trainsform both training and test features"
   ]
  },
  {
   "cell_type": "code",
   "execution_count": 3,
   "metadata": {},
   "outputs": [
    {
     "name": "stdout",
     "output_type": "stream",
     "text": [
      "test mean = \n",
      "[[ 0.16074061  0.12711367  0.15180003 -0.03210146  0.03620265  0.14171656\n",
      "   0.03750545  0.2128002 ]]\n",
      "test std = \n",
      "[[1.08193537 0.97542281 0.94542695 1.0985279  0.9034613  0.9584262\n",
      "  1.13490981 1.03971785]]\n"
     ]
    }
   ],
   "source": [
    "# Standardization\n",
    "import numpy\n",
    "\n",
    "# calculate mu and sig using the training set\n",
    "d = x_train.shape[1]\n",
    "mu = numpy.mean(x_train, axis=0).reshape(1, d)\n",
    "sig = numpy.std(x_train, axis=0).reshape(1, d)\n",
    "\n",
    "# transform the training features\n",
    "x_train = (x_train - mu) / (sig + 1E-6)\n",
    "\n",
    "# transform the test features\n",
    "x_test = (x_test - mu) / (sig + 1E-6)\n",
    "\n",
    "print('test mean = ')\n",
    "print(numpy.mean(x_test, axis=0))\n",
    "\n",
    "print('test std = ')\n",
    "print(numpy.std(x_test, axis=0))"
   ]
  },
  {
   "cell_type": "markdown",
   "metadata": {},
   "source": [
    "## 1.4. Add a dimension of all ones"
   ]
  },
  {
   "cell_type": "code",
   "execution_count": 4,
   "metadata": {},
   "outputs": [
    {
     "name": "stdout",
     "output_type": "stream",
     "text": [
      "Shape of x_train: (640, 9)\n",
      "Shape of x_test: (128, 9)\n"
     ]
    }
   ],
   "source": [
    "n_train, d = x_train.shape\n",
    "x_train = numpy.concatenate((x_train, numpy.ones((n_train, 1))), axis=1)\n",
    "\n",
    "n_test, d = x_test.shape\n",
    "x_test = numpy.concatenate((x_test, numpy.ones((n_test, 1))), axis=1)\n",
    "\n",
    "print('Shape of x_train: ' + str(x_train.shape))\n",
    "print('Shape of x_test: ' + str(x_test.shape))"
   ]
  },
  {
   "cell_type": "markdown",
   "metadata": {},
   "source": [
    "# 2. Logistic regression model\n",
    "\n",
    "The objective function is $Q (w; X, y) = \\frac{1}{n} \\sum_{i=1}^n \\log \\Big( 1 + \\exp \\big( - y_i x_i^T w \\big) \\Big) + \\frac{\\lambda}{2} \\| w \\|_2^2 $."
   ]
  },
  {
   "cell_type": "code",
   "execution_count": 5,
   "metadata": {},
   "outputs": [],
   "source": [
    "# Calculate the objective function value\n",
    "# Inputs:\n",
    "#     w: d-by-1 matrix\n",
    "#     x: n-by-d matrix\n",
    "#     y: n-by-1 matrix\n",
    "#     lam: scalar, the regularization parameter\n",
    "# Return:\n",
    "#     objective function value (scalar)\n",
    "def objective(w, x, y, lam):\n",
    "    n, d = x.shape\n",
    "    yx = numpy.multiply(y, x) # n-by-d matrix\n",
    "    yxw = numpy.dot(yx, w) # n-by-1 matrix\n",
    "    vec1 = numpy.exp(-yxw) # n-by-1 matrix\n",
    "    vec2 = numpy.log(1 + vec1) # n-by-1 matrix\n",
    "    loss = numpy.mean(vec2) # scalar\n",
    "    reg = lam / 2 * numpy.sum(w * w) # scalar\n",
    "    return loss + reg\n",
    "    "
   ]
  },
  {
   "cell_type": "code",
   "execution_count": 6,
   "metadata": {},
   "outputs": [
    {
     "name": "stdout",
     "output_type": "stream",
     "text": [
      "Initial objective function value = 0.6931471805599453\n"
     ]
    }
   ],
   "source": [
    "# initialize w\n",
    "d = x_train.shape[1]\n",
    "w = numpy.zeros((d, 1))\n",
    "\n",
    "# evaluate the objective function value at w\n",
    "lam = 1E-6\n",
    "objval0 = objective(w, x_train, y_train, lam)\n",
    "print('Initial objective function value = ' + str(objval0))"
   ]
  },
  {
   "cell_type": "markdown",
   "metadata": {},
   "source": [
    "# 3. Numerical optimization"
   ]
  },
  {
   "cell_type": "markdown",
   "metadata": {},
   "source": [
    "## 3.1. Gradient descent\n"
   ]
  },
  {
   "cell_type": "markdown",
   "metadata": {},
   "source": [
    "The gradient at $w$ is $g = - \\frac{1}{n} \\sum_{i=1}^n \\frac{y_i x_i }{1 + \\exp ( y_i x_i^T w)} + \\lambda w$"
   ]
  },
  {
   "cell_type": "code",
   "execution_count": 7,
   "metadata": {},
   "outputs": [],
   "source": [
    "# Calculate the gradient\n",
    "# Inputs:\n",
    "#     w: d-by-1 matrix\n",
    "#     x: n-by-d matrix\n",
    "#     y: n-by-1 matrix\n",
    "#     lam: scalar, the regularization parameter\n",
    "# Return:\n",
    "#     g: g: d-by-1 matrix, full gradient\n",
    "def gradient(w, x, y, lam):\n",
    "    n, d = x.shape\n",
    "    yx = numpy.multiply(y, x) # n-by-d matrix\n",
    "    yxw = numpy.dot(yx, w) # n-by-1 matrix\n",
    "    vec1 = numpy.exp(yxw) # n-by-1 matrix\n",
    "    vec2 = numpy.divide(yx, 1+vec1) # n-by-d matrix\n",
    "    vec3 = -numpy.mean(vec2, axis=0).reshape(d, 1) # d-by-1 matrix\n",
    "    g = vec3 + lam * w\n",
    "    return g"
   ]
  },
  {
   "cell_type": "code",
   "execution_count": 8,
   "metadata": {},
   "outputs": [],
   "source": [
    "# Gradient descent for solving logistic regression\n",
    "# Inputs:\n",
    "#     x: n-by-d matrix\n",
    "#     y: n-by-1 matrix\n",
    "#     lam: scalar, the regularization parameter\n",
    "#     stepsize: scalar\n",
    "#     max_iter: integer, the maximal iterations\n",
    "#     w: d-by-1 matrix, initialization of w\n",
    "# Return:\n",
    "#     w: d-by-1 matrix, the solution\n",
    "#     objvals: a record of each iteration's objective value\n",
    "def grad_descent(x, y, lam, stepsize, max_iter=100, w=None):\n",
    "    n, d = x.shape\n",
    "    objvals = numpy.zeros(max_iter) # store the objective values\n",
    "    if w is None:\n",
    "        w = numpy.zeros((d, 1)) # zero initialization\n",
    "    \n",
    "    for t in range(max_iter):\n",
    "        objval = objective(w, x, y, lam)\n",
    "        objvals[t] = objval\n",
    "        print('Objective value at t=' + str(t) + ' is ' + str(objval))\n",
    "        g = gradient(w, x, y, lam)\n",
    "        w -= stepsize * g\n",
    "    \n",
    "    return w, objvals"
   ]
  },
  {
   "cell_type": "markdown",
   "metadata": {},
   "source": [
    "Run gradient descent."
   ]
  },
  {
   "cell_type": "code",
   "execution_count": 9,
   "metadata": {},
   "outputs": [
    {
     "name": "stdout",
     "output_type": "stream",
     "text": [
      "Objective value at t=0 is 0.6931471805599453\n",
      "Objective value at t=1 is 0.5937490051906553\n",
      "Objective value at t=2 is 0.552277507548178\n",
      "Objective value at t=3 is 0.5297513637513273\n",
      "Objective value at t=4 is 0.515622063403959\n",
      "Objective value at t=5 is 0.5060256537029623\n",
      "Objective value at t=6 is 0.4991825052382968\n",
      "Objective value at t=7 is 0.4941406749556176\n",
      "Objective value at t=8 is 0.4903373956437103\n",
      "Objective value at t=9 is 0.48741628182615204\n",
      "Objective value at t=10 is 0.48514031308669464\n",
      "Objective value at t=11 is 0.4833460225291022\n",
      "Objective value at t=12 is 0.4819174601469807\n",
      "Objective value at t=13 is 0.4807705059105786\n",
      "Objective value at t=14 is 0.47984298324490027\n",
      "Objective value at t=15 is 0.4790882032028426\n",
      "Objective value at t=16 is 0.4784706262244174\n",
      "Objective value at t=17 is 0.47796287660651227\n",
      "Objective value at t=18 is 0.4775436457858318\n",
      "Objective value at t=19 is 0.4771961936321452\n",
      "Objective value at t=20 is 0.47690726037742476\n",
      "Objective value at t=21 is 0.47666626559938696\n",
      "Objective value at t=22 is 0.47646471108817107\n",
      "Objective value at t=23 is 0.47629573061425784\n",
      "Objective value at t=24 is 0.4761537469298763\n",
      "Objective value at t=25 is 0.47603420798645474\n",
      "Objective value at t=26 is 0.4759333823153505\n",
      "Objective value at t=27 is 0.4758481990433457\n",
      "Objective value at t=28 is 0.47577612189724694\n",
      "Objective value at t=29 is 0.4757150493148186\n",
      "Objective value at t=30 is 0.4756632347678871\n",
      "Objective value at t=31 is 0.47561922285011593\n",
      "Objective value at t=32 is 0.4755817977449591\n",
      "Objective value at t=33 is 0.47554994147773744\n",
      "Objective value at t=34 is 0.4755227999457676\n",
      "Objective value at t=35 is 0.4754996551656042\n",
      "Objective value at t=36 is 0.47547990251494193\n",
      "Objective value at t=37 is 0.4754630320060026\n",
      "Objective value at t=38 is 0.4754486128272094\n",
      "Objective value at t=39 is 0.47543628054520565\n",
      "Objective value at t=40 is 0.4754257264805361\n",
      "Objective value at t=41 is 0.47541668886558514\n",
      "Objective value at t=42 is 0.47540894546861107\n",
      "Objective value at t=43 is 0.47540230742746753\n",
      "Objective value at t=44 is 0.47539661408426626\n",
      "Objective value at t=45 is 0.47539172865043394\n",
      "Objective value at t=46 is 0.4753875345623669\n",
      "Objective value at t=47 is 0.475383932412724\n",
      "Objective value at t=48 is 0.47538083736256326\n",
      "Objective value at t=49 is 0.475378176955927\n",
      "Objective value at t=50 is 0.4753758892718879\n",
      "Objective value at t=51 is 0.4753739213600478\n",
      "Objective value at t=52 is 0.47537222791450856\n",
      "Objective value at t=53 is 0.47537077014877444\n",
      "Objective value at t=54 is 0.47536951484018963\n",
      "Objective value at t=55 is 0.4753684335176122\n",
      "Objective value at t=56 is 0.47536750177024995\n",
      "Objective value at t=57 is 0.47536669865910436\n",
      "Objective value at t=58 is 0.4753660062154065\n",
      "Objective value at t=59 is 0.4753654090128728\n",
      "Objective value at t=60 is 0.47536489380267244\n",
      "Objective value at t=61 is 0.4753644492017051\n",
      "Objective value at t=62 is 0.47536406542624615\n",
      "Objective value at t=63 is 0.47536373406422266\n",
      "Objective value at t=64 is 0.47536344788041063\n",
      "Objective value at t=65 is 0.47536320064970955\n",
      "Objective value at t=66 is 0.47536298701437346\n",
      "Objective value at t=67 is 0.47536280236170286\n",
      "Objective value at t=68 is 0.4753626427192135\n",
      "Objective value at t=69 is 0.47536250466474883\n",
      "Objective value at t=70 is 0.47536238524937424\n",
      "Objective value at t=71 is 0.47536228193120617\n",
      "Objective value at t=72 is 0.4753621925186084\n",
      "Objective value at t=73 is 0.47536211512140697\n",
      "Objective value at t=74 is 0.4753620481089804\n",
      "Objective value at t=75 is 0.4753619900742418\n",
      "Objective value at t=76 is 0.475361939802675\n",
      "Objective value at t=77 is 0.4753618962457071\n",
      "Objective value at t=78 is 0.47536185849780294\n",
      "Objective value at t=79 is 0.4753618257767539\n",
      "Objective value at t=80 is 0.47536179740671336\n",
      "Objective value at t=81 is 0.4753617728035885\n",
      "Objective value at t=82 is 0.4753617514624596\n",
      "Objective value at t=83 is 0.47536173294674267\n",
      "Objective value at t=84 is 0.47536171687884926\n",
      "Objective value at t=85 is 0.47536170293213653\n",
      "Objective value at t=86 is 0.475361690823967\n",
      "Objective value at t=87 is 0.47536168030972176\n",
      "Objective value at t=88 is 0.4753616711776374\n",
      "Objective value at t=89 is 0.47536166324435086\n",
      "Objective value at t=90 is 0.47536165635105376\n",
      "Objective value at t=91 is 0.4753616503601727\n",
      "Objective value at t=92 is 0.475361645152503\n",
      "Objective value at t=93 is 0.4753616406247327\n",
      "Objective value at t=94 is 0.47536163668730363\n",
      "Objective value at t=95 is 0.47536163326256325\n",
      "Objective value at t=96 is 0.47536163028316675\n",
      "Objective value at t=97 is 0.47536162769069634\n",
      "Objective value at t=98 is 0.47536162543446686\n",
      "Objective value at t=99 is 0.4753616234704924\n"
     ]
    }
   ],
   "source": [
    "lam = 1E-6\n",
    "stepsize = 1.0\n",
    "w, objvals_gd = grad_descent(x_train, y_train, lam, stepsize)"
   ]
  },
  {
   "cell_type": "markdown",
   "metadata": {},
   "source": [
    "## 3.2. Stochastic gradient descent (SGD)\n",
    "\n",
    "Define $Q_i (w) = \\log \\Big( 1 + \\exp \\big( - y_i x_i^T w \\big) \\Big) + \\frac{\\lambda}{2} \\| w \\|_2^2 $.\n",
    "\n",
    "The stochastic gradient at $w$ is $g_i = \\frac{\\partial Q_i }{ \\partial w} = -\\frac{y_i x_i }{1 + \\exp ( y_i x_i^T w)} + \\lambda w$."
   ]
  },
  {
   "cell_type": "code",
   "execution_count": 10,
   "metadata": {},
   "outputs": [],
   "source": [
    "# Calculate the objective Q_i and the gradient of Q_i\n",
    "# Inputs:\n",
    "#     w: d-by-1 matrix\n",
    "#     xi: 1-by-d matrix\n",
    "#     yi: scalar\n",
    "#     lam: scalar, the regularization parameter\n",
    "# Return:\n",
    "#     obj: scalar, the objective Q_i\n",
    "#     g: d-by-1 matrix, gradient of Q_i\n",
    "def stochastic_objective_gradient(w, xi, yi, lam):\n",
    "    d = xi.shape[0]\n",
    "    yx = yi * xi # 1-by-d matrix\n",
    "    yxw = float(numpy.dot(yx, w)) # scalar\n",
    "    \n",
    "    # calculate objective function Q_i\n",
    "    loss = numpy.log(1 + numpy.exp(-yxw)) # scalar\n",
    "    reg = lam / 2 * numpy.sum(w * w) # scalar\n",
    "    obj = loss + reg\n",
    "    \n",
    "    # calculate stochastic gradient\n",
    "    g_loss = -yx.T / (1 + numpy.exp(yxw)) # d-by-1 matrix\n",
    "    g = g_loss + lam * w # d-by-1 matrix\n",
    "    \n",
    "    return obj, g"
   ]
  },
  {
   "cell_type": "code",
   "execution_count": 11,
   "metadata": {},
   "outputs": [],
   "source": [
    "# SGD for solving logistic regression\n",
    "# Inputs:\n",
    "#     x: n-by-d matrix\n",
    "#     y: n-by-1 matrix\n",
    "#     lam: scalar, the regularization parameter\n",
    "#     stepsize: scalar\n",
    "#     max_epoch: integer, the maximal epochs\n",
    "#     w: d-by-1 matrix, initialization of w\n",
    "# Return:\n",
    "#     w: the solution\n",
    "#     objvals: record of each iteration's objective value\n",
    "def sgd(x, y, lam, stepsize, max_epoch=100, w=None):\n",
    "    n, d = x.shape\n",
    "    objvals = numpy.zeros(max_epoch) # store the objective values\n",
    "    if w is None:\n",
    "        w = numpy.zeros((d, 1)) # zero initialization\n",
    "    \n",
    "    for t in range(max_epoch):\n",
    "        # randomly shuffle the samples\n",
    "        rand_indices = numpy.random.permutation(n)\n",
    "        x_rand = x[rand_indices, :]\n",
    "        y_rand = y[rand_indices, :]\n",
    "        \n",
    "        objval = 0 # accumulate the objective values\n",
    "        for i in range(n):\n",
    "            xi = x_rand[i, :] # 1-by-d matrix\n",
    "            yi = float(y_rand[i, :]) # scalar\n",
    "            obj, g = stochastic_objective_gradient(w, xi, yi, lam)\n",
    "            objval += obj\n",
    "            w -= stepsize * g\n",
    "        \n",
    "        stepsize *= 0.9 # decrease step size\n",
    "        objval /= n\n",
    "        objvals[t] = objval\n",
    "        print('Objective value at epoch t=' + str(t) + ' is ' + str(objval))\n",
    "    \n",
    "    return w, objvals"
   ]
  },
  {
   "cell_type": "markdown",
   "metadata": {},
   "source": [
    "Run SGD."
   ]
  },
  {
   "cell_type": "code",
   "execution_count": 12,
   "metadata": {},
   "outputs": [
    {
     "name": "stdout",
     "output_type": "stream",
     "text": [
      "Objective value at epoch t=0 is 0.5454232857526374\n",
      "Objective value at epoch t=1 is 0.5167277012224434\n",
      "Objective value at epoch t=2 is 0.5220519068305622\n",
      "Objective value at epoch t=3 is 0.5199801029875581\n",
      "Objective value at epoch t=4 is 0.5121728755892526\n",
      "Objective value at epoch t=5 is 0.5100770779208438\n",
      "Objective value at epoch t=6 is 0.500431973694343\n",
      "Objective value at epoch t=7 is 0.5012282784790376\n",
      "Objective value at epoch t=8 is 0.4952240151880978\n",
      "Objective value at epoch t=9 is 0.49673738450083976\n",
      "Objective value at epoch t=10 is 0.491715106138532\n",
      "Objective value at epoch t=11 is 0.4934587087581299\n",
      "Objective value at epoch t=12 is 0.49097812398359925\n",
      "Objective value at epoch t=13 is 0.4919902904088051\n",
      "Objective value at epoch t=14 is 0.4873917719575653\n",
      "Objective value at epoch t=15 is 0.48898486305972505\n",
      "Objective value at epoch t=16 is 0.48616813206908\n",
      "Objective value at epoch t=17 is 0.48737884379624896\n",
      "Objective value at epoch t=18 is 0.4829665898921017\n",
      "Objective value at epoch t=19 is 0.485136473099676\n",
      "Objective value at epoch t=20 is 0.48336862990133556\n",
      "Objective value at epoch t=21 is 0.482935550083684\n",
      "Objective value at epoch t=22 is 0.4821166411130974\n",
      "Objective value at epoch t=23 is 0.4807650682838999\n",
      "Objective value at epoch t=24 is 0.48147979349224446\n",
      "Objective value at epoch t=25 is 0.48042215660265486\n",
      "Objective value at epoch t=26 is 0.47980306856504906\n",
      "Objective value at epoch t=27 is 0.47915251152066685\n",
      "Objective value at epoch t=28 is 0.4788934011350151\n",
      "Objective value at epoch t=29 is 0.4788358378301288\n",
      "Objective value at epoch t=30 is 0.47854920212920443\n",
      "Objective value at epoch t=31 is 0.4782037353040649\n",
      "Objective value at epoch t=32 is 0.47791365378366824\n",
      "Objective value at epoch t=33 is 0.47771361914423405\n",
      "Objective value at epoch t=34 is 0.47744801813636595\n",
      "Objective value at epoch t=35 is 0.4772090853456916\n",
      "Objective value at epoch t=36 is 0.4770548420275378\n",
      "Objective value at epoch t=37 is 0.4768807367211846\n",
      "Objective value at epoch t=38 is 0.4767362583303176\n",
      "Objective value at epoch t=39 is 0.4766161495314624\n",
      "Objective value at epoch t=40 is 0.4764855719362361\n",
      "Objective value at epoch t=41 is 0.47638643841688594\n",
      "Objective value at epoch t=42 is 0.4762803529287483\n",
      "Objective value at epoch t=43 is 0.47619209299070303\n",
      "Objective value at epoch t=44 is 0.47610412884222264\n",
      "Objective value at epoch t=45 is 0.4760377177438027\n",
      "Objective value at epoch t=46 is 0.47596860720412176\n",
      "Objective value at epoch t=47 is 0.475907882043692\n",
      "Objective value at epoch t=48 is 0.4758509860641548\n",
      "Objective value at epoch t=49 is 0.4758009279532128\n",
      "Objective value at epoch t=50 is 0.47575626578352814\n",
      "Objective value at epoch t=51 is 0.47571862184721614\n",
      "Objective value at epoch t=52 is 0.4756820817781889\n",
      "Objective value at epoch t=53 is 0.47565067719946913\n",
      "Objective value at epoch t=54 is 0.47562379678566813\n",
      "Objective value at epoch t=55 is 0.4755966484012119\n",
      "Objective value at epoch t=56 is 0.47557393585228025\n",
      "Objective value at epoch t=57 is 0.4755532093822358\n",
      "Objective value at epoch t=58 is 0.47553379682251695\n",
      "Objective value at epoch t=59 is 0.47551658167005256\n",
      "Objective value at epoch t=60 is 0.4755010579961364\n",
      "Objective value at epoch t=61 is 0.4754875059815917\n",
      "Objective value at epoch t=62 is 0.47547466310357966\n",
      "Objective value at epoch t=63 is 0.47546359372406855\n",
      "Objective value at epoch t=64 is 0.47545349181072744\n",
      "Objective value at epoch t=65 is 0.4754443330145109\n",
      "Objective value at epoch t=66 is 0.475436055880328\n",
      "Objective value at epoch t=67 is 0.47542867104749276\n",
      "Objective value at epoch t=68 is 0.4754220202878556\n",
      "Objective value at epoch t=69 is 0.47541601086848717\n",
      "Objective value at epoch t=70 is 0.47541054674125116\n",
      "Objective value at epoch t=71 is 0.4754057681679599\n",
      "Objective value at epoch t=72 is 0.4754013404995793\n",
      "Objective value at epoch t=73 is 0.4753974499197997\n",
      "Objective value at epoch t=74 is 0.47539388593719434\n",
      "Objective value at epoch t=75 is 0.4753906745368739\n",
      "Objective value at epoch t=76 is 0.47538784777252435\n",
      "Objective value at epoch t=77 is 0.4753852533222916\n",
      "Objective value at epoch t=78 is 0.4753829399218028\n",
      "Objective value at epoch t=79 is 0.4753808443355518\n",
      "Objective value at epoch t=80 is 0.47537895075422787\n",
      "Objective value at epoch t=81 is 0.47537725995813906\n",
      "Objective value at epoch t=82 is 0.47537573261321864\n",
      "Objective value at epoch t=83 is 0.4753743618998256\n",
      "Objective value at epoch t=84 is 0.47537312748164984\n",
      "Objective value at epoch t=85 is 0.4753720142870435\n",
      "Objective value at epoch t=86 is 0.47537101194729103\n",
      "Objective value at epoch t=87 is 0.4753701090647519\n",
      "Objective value at epoch t=88 is 0.47536929902097097\n",
      "Objective value at epoch t=89 is 0.4753685694882656\n",
      "Objective value at epoch t=90 is 0.4753679127793605\n",
      "Objective value at epoch t=91 is 0.47536732107800345\n",
      "Objective value at epoch t=92 is 0.4753667884404328\n",
      "Objective value at epoch t=93 is 0.4753663088759173\n",
      "Objective value at epoch t=94 is 0.47536587805963115\n",
      "Objective value at epoch t=95 is 0.47536548962942965\n",
      "Objective value at epoch t=96 is 0.4753651407412973\n",
      "Objective value at epoch t=97 is 0.4753648261922015\n",
      "Objective value at epoch t=98 is 0.47536454328290445\n",
      "Objective value at epoch t=99 is 0.4753642887756325\n"
     ]
    }
   ],
   "source": [
    "lam = 1E-6\n",
    "stepsize = 0.1\n",
    "w, objvals_sgd = sgd(x_train, y_train, lam, stepsize)"
   ]
  },
  {
   "cell_type": "markdown",
   "metadata": {},
   "source": [
    "# 4. Compare GD with SGD\n",
    "\n",
    "Plot objective function values against epochs."
   ]
  },
  {
   "cell_type": "code",
   "execution_count": 13,
   "metadata": {},
   "outputs": [
    {
     "data": {
      "image/png": "[encoded data removed]",
      "text/plain": [
       "<Figure size 432x288 with 1 Axes>"
      ]
     },
     "metadata": {
      "needs_background": "light"
     },
     "output_type": "display_data"
    }
   ],
   "source": [
    "import matplotlib.pyplot as plt\n",
    "%matplotlib inline\n",
    "\n",
    "fig = plt.figure(figsize=(6, 4))\n",
    "\n",
    "epochs_gd = range(len(objvals_gd))\n",
    "epochs_sgd = range(len(objvals_sgd))\n",
    "\n",
    "line0, = plt.plot(epochs_gd, objvals_gd, '--b', linewidth=4)\n",
    "line1, = plt.plot(epochs_sgd, objvals_sgd, '-r', linewidth=2)\n",
    "plt.xlabel('Epochs', fontsize=20)\n",
    "plt.ylabel('Objective Value', fontsize=20)\n",
    "plt.xticks(fontsize=16)\n",
    "plt.yticks(fontsize=16)\n",
    "plt.legend([line0, line1], ['GD', 'SGD'], fontsize=20)\n",
    "plt.tight_layout()\n",
    "plt.show()\n",
    "fig.savefig('compare_gd_sgd.pdf', format='pdf', dpi=1200)"
   ]
  },
  {
   "cell_type": "markdown",
   "metadata": {},
   "source": [
    "# 5. Prediction"
   ]
  },
  {
   "cell_type": "code",
   "execution_count": 14,
   "metadata": {},
   "outputs": [],
   "source": [
    "# Predict class label\n",
    "# Inputs:\n",
    "#     w: d-by-1 matrix\n",
    "#     X: m-by-d matrix\n",
    "# Return:\n",
    "#     f: m-by-1 matrix, the predictions\n",
    "def predict(w, X):\n",
    "    xw = numpy.dot(X, w)\n",
    "    f = numpy.sign(xw)\n",
    "    return f"
   ]
  },
  {
   "cell_type": "code",
   "execution_count": 15,
   "metadata": {},
   "outputs": [
    {
     "name": "stdout",
     "output_type": "stream",
     "text": [
      "Training classification error is 0.221875\n"
     ]
    }
   ],
   "source": [
    "# evaluate training error\n",
    "f_train = predict(w, x_train)\n",
    "diff = numpy.abs(f_train - y_train) / 2\n",
    "error_train = numpy.mean(diff)\n",
    "print('Training classification error is ' + str(error_train))"
   ]
  },
  {
   "cell_type": "code",
   "execution_count": 16,
   "metadata": {},
   "outputs": [
    {
     "name": "stdout",
     "output_type": "stream",
     "text": [
      "Test classification error is 0.21875\n"
     ]
    }
   ],
   "source": [
    "# evaluate test error\n",
    "f_test = predict(w, x_test)\n",
    "diff = numpy.abs(f_test - y_test) / 2\n",
    "error_test = numpy.mean(diff)\n",
    "print('Test classification error is ' + str(error_test))"
   ]
  },
  {
   "cell_type": "markdown",
   "metadata": {},
   "source": [
    "# 6. Mini-batch SGD (fill the code)\n",
    "\n"
   ]
  },
  {
   "cell_type": "markdown",
   "metadata": {},
   "source": [
    "## 6.1. Compute the objective $Q_I$ and its gradient using a batch of samples\n",
    "\n",
    "Define $Q_I (w) = \\frac{1}{b} \\sum_{i \\in I} \\log \\Big( 1 + \\exp \\big( - y_i x_i^T w \\big) \\Big) + \\frac{\\lambda}{2} \\| w \\|_2^2 $, where $I$ is a set containing $b$ indices randomly drawn from $\\{ 1, \\cdots , n \\}$ without replacement.\n",
    "\n",
    "The stochastic gradient at $w$ is $g_I = \\frac{\\partial Q_I }{ \\partial w} = \\frac{1}{b} \\sum_{i \\in I} \\frac{- y_i x_i }{1 + \\exp ( y_i x_i^T w)} + \\lambda w$."
   ]
  },
  {
   "cell_type": "code",
   "execution_count": 17,
   "metadata": {},
   "outputs": [],
   "source": [
    "# Calculate the objective Q_I and the gradient of Q_I\n",
    "# Inputs:\n",
    "#     w: d-by-1 matrix\n",
    "#     xi: b-by-d matrix\n",
    "#     yi: b-by-1 matrix\n",
    "#     lam: scalar, the regularization parameter\n",
    "#     b: integer, the batch size\n",
    "# Return:\n",
    "#     obj: scalar, the objective Q_i\n",
    "#     g: d-by-1 matrix, gradient of Q_i\n",
    "def mb_stochastic_objective_gradient(w, xi, yi, lam, b):\n",
    "    # Fill the function\n",
    "    # Follow the implementation of stochastic_objective_gradient\n",
    "    # Use matrix-vector multiplication; do not use FOR LOOP of vector-vector multiplications\n",
    "    d = xi.shape[1]\n",
    "    yx = numpy.multiply(yi,xi) # b-by-d matrix\n",
    "    yxw = numpy.dot(yx, w) # b-by-1 vector\n",
    "    \n",
    "    # calculate objective function Q_i\n",
    "    loss = numpy.log(1 + numpy.exp(-yxw)) # b-by-1 vector\n",
    "    reg = lam / 2 * numpy.sum(w * w) # scalar\n",
    "    obj = numpy.mean(loss, axis=0).item() + reg # scalar\n",
    "    \n",
    "    # calculate mb stochastic gradient\n",
    "    g_loss = -yx / (1 + numpy.exp(yxw)) # b-by-d matrix\n",
    "    g = numpy.mean(g_loss, axis=0).reshape(d,1) + lam * w # d-by-1 vector\n",
    "    \n",
    "    return obj, g"
   ]
  },
  {
   "cell_type": "markdown",
   "metadata": {},
   "source": [
    "## 6.2. Implement mini-batch SGD\n",
    "\n",
    "Hints:\n",
    "1. In every epoch, randomly permute the $n$ samples (just like SGD).\n",
    "2. Each epoch has $\\frac{n}{b}$ iterations. In every iteration, use $b$ samples, and compute the gradient and objective using the ``mb_stochastic_objective_gradient`` function. In the next iteration, use the next $b$ samples, and so on.\n"
   ]
  },
  {
   "cell_type": "code",
   "execution_count": 18,
   "metadata": {},
   "outputs": [],
   "source": [
    "# Mini-Batch SGD for solving logistic regression\n",
    "# Inputs:\n",
    "#     x: n-by-d matrix\n",
    "#     y: n-by-1 matrix\n",
    "#     lam: scalar, the regularization parameter\n",
    "#     b: integer, the batch size\n",
    "#     stepsize: scalar\n",
    "#     max_epoch: integer, the maximal epochs\n",
    "#     w: d-by-1 matrix, initialization of w\n",
    "# Return:\n",
    "#     w: the solution\n",
    "#     objvals: record of each iteration's objective value\n",
    "def mb_sgd(x, y, lam, b, stepsize, max_epoch=100, w=None):\n",
    "    # Fill the function\n",
    "    # Follow the implementation of sgd\n",
    "    # Record one objective value per epoch (not per iteration!)\n",
    "    n, d = x.shape\n",
    "    objvals = numpy.zeros(max_epoch) # store the objective values\n",
    "    if w is None:\n",
    "        w = numpy.zeros((d, 1)) # zero initialization\n",
    "    \n",
    "    for t in range(max_epoch):\n",
    "        # randomly shuffle the samples\n",
    "        rand_indices = numpy.random.permutation(n)\n",
    "        x_rand = x[rand_indices, :]\n",
    "        y_rand = y[rand_indices, :]\n",
    "        \n",
    "        objval = 0 # accumulate the objective values\n",
    "        for i in range(0,n,b): # only need to loop n/b times to use every sample\n",
    "            xi = x_rand[i:i+b, :] # b-by-d matrix\n",
    "            yi = y_rand[i:i+b, :] # b-by-1 vector\n",
    "            obj, g = mb_stochastic_objective_gradient(w, xi, yi, lam, b)\n",
    "            objval += obj\n",
    "            w -= stepsize * g\n",
    "        \n",
    "        stepsize *= 0.9 # decrease step size\n",
    "        objval /= (n//b) \n",
    "        objvals[t] = float(objval)\n",
    "        print('Objective value at epoch t=' + str(t) + ' is ' + str(objval))\n",
    "    \n",
    "    return w, objvals"
   ]
  },
  {
   "cell_type": "markdown",
   "metadata": {},
   "source": [
    "## 6.3. Run MB-SGD"
   ]
  },
  {
   "cell_type": "code",
   "execution_count": 19,
   "metadata": {},
   "outputs": [
    {
     "name": "stdout",
     "output_type": "stream",
     "text": [
      "Objective value at epoch t=0 is 0.5497821187408612\n",
      "Objective value at epoch t=1 is 0.49295717859551136\n",
      "Objective value at epoch t=2 is 0.4840596383520996\n",
      "Objective value at epoch t=3 is 0.48324017652063167\n",
      "Objective value at epoch t=4 is 0.4797939210255871\n",
      "Objective value at epoch t=5 is 0.4812681680147629\n",
      "Objective value at epoch t=6 is 0.4800157394356197\n",
      "Objective value at epoch t=7 is 0.48000118839147365\n",
      "Objective value at epoch t=8 is 0.47927660836318353\n",
      "Objective value at epoch t=9 is 0.4788535480741751\n",
      "Objective value at epoch t=10 is 0.4785834138886633\n",
      "Objective value at epoch t=11 is 0.47830882974008126\n",
      "Objective value at epoch t=12 is 0.47792991727369805\n",
      "Objective value at epoch t=13 is 0.47782344625880857\n",
      "Objective value at epoch t=14 is 0.4774802690594262\n",
      "Objective value at epoch t=15 is 0.4772723830459876\n",
      "Objective value at epoch t=16 is 0.4769695718888463\n",
      "Objective value at epoch t=17 is 0.4770607201621856\n",
      "Objective value at epoch t=18 is 0.47679995351306753\n",
      "Objective value at epoch t=19 is 0.47655884855810404\n",
      "Objective value at epoch t=20 is 0.476572399580511\n",
      "Objective value at epoch t=21 is 0.4764242465105652\n",
      "Objective value at epoch t=22 is 0.47631576342940923\n",
      "Objective value at epoch t=23 is 0.47620360146472285\n",
      "Objective value at epoch t=24 is 0.47614057584312075\n",
      "Objective value at epoch t=25 is 0.4760666109050401\n",
      "Objective value at epoch t=26 is 0.475991468065443\n",
      "Objective value at epoch t=27 is 0.47588724553831724\n",
      "Objective value at epoch t=28 is 0.47584491917822086\n",
      "Objective value at epoch t=29 is 0.47581434866036787\n",
      "Objective value at epoch t=30 is 0.47574355382056\n",
      "Objective value at epoch t=31 is 0.47571723891208284\n",
      "Objective value at epoch t=32 is 0.47568485969637136\n",
      "Objective value at epoch t=33 is 0.47567041173881386\n",
      "Objective value at epoch t=34 is 0.47562115156101126\n",
      "Objective value at epoch t=35 is 0.4756168297704007\n",
      "Objective value at epoch t=36 is 0.4755614816075647\n",
      "Objective value at epoch t=37 is 0.4755725776242386\n",
      "Objective value at epoch t=38 is 0.4755336629311612\n",
      "Objective value at epoch t=39 is 0.4755133621579648\n",
      "Objective value at epoch t=40 is 0.4754812878372464\n",
      "Objective value at epoch t=41 is 0.4755006553684982\n",
      "Objective value at epoch t=42 is 0.47548542478983524\n",
      "Objective value at epoch t=43 is 0.47546506829451857\n",
      "Objective value at epoch t=44 is 0.47546804813617116\n",
      "Objective value at epoch t=45 is 0.4754473022247307\n",
      "Objective value at epoch t=46 is 0.4754375064565826\n",
      "Objective value at epoch t=47 is 0.4754246860695628\n",
      "Objective value at epoch t=48 is 0.4754233782046855\n",
      "Objective value at epoch t=49 is 0.4754145307175569\n",
      "Objective value at epoch t=50 is 0.4754126214854052\n",
      "Objective value at epoch t=51 is 0.4754061248852663\n",
      "Objective value at epoch t=52 is 0.4754017412370066\n",
      "Objective value at epoch t=53 is 0.4753959828580806\n",
      "Objective value at epoch t=54 is 0.4753962734720588\n",
      "Objective value at epoch t=55 is 0.4753925602232848\n",
      "Objective value at epoch t=56 is 0.4753861315408704\n",
      "Objective value at epoch t=57 is 0.4753848243016848\n",
      "Objective value at epoch t=58 is 0.4753826371039702\n",
      "Objective value at epoch t=59 is 0.47538027020282303\n",
      "Objective value at epoch t=60 is 0.4753804770034876\n",
      "Objective value at epoch t=61 is 0.4753776246590745\n",
      "Objective value at epoch t=62 is 0.4753764482084124\n",
      "Objective value at epoch t=63 is 0.47537501537788956\n",
      "Objective value at epoch t=64 is 0.47537297262267464\n",
      "Objective value at epoch t=65 is 0.4753716261938372\n",
      "Objective value at epoch t=66 is 0.4753713743468236\n",
      "Objective value at epoch t=67 is 0.4753700391630794\n",
      "Objective value at epoch t=68 is 0.47536922296027406\n",
      "Objective value at epoch t=69 is 0.4753697321170963\n",
      "Objective value at epoch t=70 is 0.4753677714244141\n",
      "Objective value at epoch t=71 is 0.4753678701777477\n",
      "Objective value at epoch t=72 is 0.4753667270038074\n",
      "Objective value at epoch t=73 is 0.47536622233137393\n",
      "Objective value at epoch t=74 is 0.47536610094082155\n",
      "Objective value at epoch t=75 is 0.4753658281628268\n",
      "Objective value at epoch t=76 is 0.4753652244691982\n",
      "Objective value at epoch t=77 is 0.4753648830285818\n",
      "Objective value at epoch t=78 is 0.4753648563977163\n",
      "Objective value at epoch t=79 is 0.47536447612651483\n",
      "Objective value at epoch t=80 is 0.4753642261100735\n",
      "Objective value at epoch t=81 is 0.4753640787669061\n",
      "Objective value at epoch t=82 is 0.4753636543345201\n",
      "Objective value at epoch t=83 is 0.47536351268932925\n",
      "Objective value at epoch t=84 is 0.4753635074778385\n",
      "Objective value at epoch t=85 is 0.4753633652935531\n",
      "Objective value at epoch t=86 is 0.4753631783970616\n",
      "Objective value at epoch t=87 is 0.4753630707821859\n",
      "Objective value at epoch t=88 is 0.47536297766647995\n",
      "Objective value at epoch t=89 is 0.47536291144749165\n",
      "Objective value at epoch t=90 is 0.47536286757536406\n",
      "Objective value at epoch t=91 is 0.4753627265347224\n",
      "Objective value at epoch t=92 is 0.4753626682101639\n",
      "Objective value at epoch t=93 is 0.47536257932617254\n",
      "Objective value at epoch t=94 is 0.4753625959185618\n",
      "Objective value at epoch t=95 is 0.47536250770566424\n",
      "Objective value at epoch t=96 is 0.47536248273001397\n",
      "Objective value at epoch t=97 is 0.47536242126380907\n",
      "Objective value at epoch t=98 is 0.47536237763187017\n",
      "Objective value at epoch t=99 is 0.4753623567580417\n"
     ]
    }
   ],
   "source": [
    "# MB-SGD with batch size b=8\n",
    "lam = 1E-6 # do not change\n",
    "b = 8 # do not change\n",
    "stepsize = 0.1 # you must tune this parameter\n",
    "\n",
    "w_mbsgd8, objvals_mbsgd8 = mb_sgd(x_train, y_train, lam, b, stepsize)"
   ]
  },
  {
   "cell_type": "code",
   "execution_count": 20,
   "metadata": {},
   "outputs": [
    {
     "name": "stdout",
     "output_type": "stream",
     "text": [
      "Objective value at epoch t=0 is 0.5515519631108423\n",
      "Objective value at epoch t=1 is 0.48963624617495044\n",
      "Objective value at epoch t=2 is 0.48455397621084495\n",
      "Objective value at epoch t=3 is 0.48141378544672425\n",
      "Objective value at epoch t=4 is 0.4815499727206177\n",
      "Objective value at epoch t=5 is 0.4809729032350882\n",
      "Objective value at epoch t=6 is 0.48158568784342093\n",
      "Objective value at epoch t=7 is 0.47970995407330674\n",
      "Objective value at epoch t=8 is 0.4803468832545157\n",
      "Objective value at epoch t=9 is 0.4793871467571936\n",
      "Objective value at epoch t=10 is 0.4784829145020426\n",
      "Objective value at epoch t=11 is 0.4785913809652073\n",
      "Objective value at epoch t=12 is 0.4785105562448497\n",
      "Objective value at epoch t=13 is 0.4775887511327044\n",
      "Objective value at epoch t=14 is 0.47709527780976346\n",
      "Objective value at epoch t=15 is 0.4772459371128748\n",
      "Objective value at epoch t=16 is 0.4772134291539448\n",
      "Objective value at epoch t=17 is 0.4765992038399701\n",
      "Objective value at epoch t=18 is 0.4764783141079028\n",
      "Objective value at epoch t=19 is 0.47628259990200467\n",
      "Objective value at epoch t=20 is 0.47653833604931284\n",
      "Objective value at epoch t=21 is 0.47609466913056153\n",
      "Objective value at epoch t=22 is 0.4762471829195801\n",
      "Objective value at epoch t=23 is 0.4763414991503579\n",
      "Objective value at epoch t=24 is 0.47606553116351974\n",
      "Objective value at epoch t=25 is 0.4759028128810379\n",
      "Objective value at epoch t=26 is 0.4760446485634132\n",
      "Objective value at epoch t=27 is 0.47601129192545705\n",
      "Objective value at epoch t=28 is 0.4759895528561599\n",
      "Objective value at epoch t=29 is 0.4757369274898304\n",
      "Objective value at epoch t=30 is 0.47574254583715625\n",
      "Objective value at epoch t=31 is 0.47572164644447235\n",
      "Objective value at epoch t=32 is 0.47570080413429316\n",
      "Objective value at epoch t=33 is 0.47566852271378457\n",
      "Objective value at epoch t=34 is 0.4756136571317606\n",
      "Objective value at epoch t=35 is 0.47565261123447833\n",
      "Objective value at epoch t=36 is 0.4755893948913327\n",
      "Objective value at epoch t=37 is 0.4755078789785637\n",
      "Objective value at epoch t=38 is 0.47552811019513824\n",
      "Objective value at epoch t=39 is 0.4755445810657223\n",
      "Objective value at epoch t=40 is 0.4754871437252593\n",
      "Objective value at epoch t=41 is 0.47551289936402075\n",
      "Objective value at epoch t=42 is 0.47552139827488854\n",
      "Objective value at epoch t=43 is 0.47550761417444337\n",
      "Objective value at epoch t=44 is 0.47546326983353515\n",
      "Objective value at epoch t=45 is 0.47545224423700827\n",
      "Objective value at epoch t=46 is 0.4754472231234813\n",
      "Objective value at epoch t=47 is 0.47544056376250543\n",
      "Objective value at epoch t=48 is 0.47539840657060645\n",
      "Objective value at epoch t=49 is 0.47542382810206424\n",
      "Objective value at epoch t=50 is 0.47542264305403525\n",
      "Objective value at epoch t=51 is 0.47539426734164403\n",
      "Objective value at epoch t=52 is 0.47541393532118975\n",
      "Objective value at epoch t=53 is 0.4754015446273307\n",
      "Objective value at epoch t=54 is 0.47538978477614613\n",
      "Objective value at epoch t=55 is 0.4753879790001675\n",
      "Objective value at epoch t=56 is 0.47538708587977574\n",
      "Objective value at epoch t=57 is 0.4753784105617623\n",
      "Objective value at epoch t=58 is 0.4753859977278599\n",
      "Objective value at epoch t=59 is 0.47538142168926784\n",
      "Objective value at epoch t=60 is 0.47537981501062665\n",
      "Objective value at epoch t=61 is 0.47537501274080274\n",
      "Objective value at epoch t=62 is 0.4753778138074035\n",
      "Objective value at epoch t=63 is 0.47537507069514034\n",
      "Objective value at epoch t=64 is 0.47537468073809064\n",
      "Objective value at epoch t=65 is 0.4753712154290103\n",
      "Objective value at epoch t=66 is 0.47537125347739506\n",
      "Objective value at epoch t=67 is 0.4753717592696307\n",
      "Objective value at epoch t=68 is 0.4753680722980505\n",
      "Objective value at epoch t=69 is 0.47536884466678453\n",
      "Objective value at epoch t=70 is 0.475366238043388\n",
      "Objective value at epoch t=71 is 0.4753672105789827\n",
      "Objective value at epoch t=72 is 0.4753671179819155\n",
      "Objective value at epoch t=73 is 0.47536717934996864\n",
      "Objective value at epoch t=74 is 0.4753654627850327\n",
      "Objective value at epoch t=75 is 0.4753643994757321\n",
      "Objective value at epoch t=76 is 0.4753654554892065\n",
      "Objective value at epoch t=77 is 0.47536476682130824\n",
      "Objective value at epoch t=78 is 0.47536425803077414\n",
      "Objective value at epoch t=79 is 0.47536477945024946\n",
      "Objective value at epoch t=80 is 0.475364642331183\n",
      "Objective value at epoch t=81 is 0.47536449136013925\n",
      "Objective value at epoch t=82 is 0.4753637571337978\n",
      "Objective value at epoch t=83 is 0.47536417929360564\n",
      "Objective value at epoch t=84 is 0.475363229143527\n",
      "Objective value at epoch t=85 is 0.47536380106674797\n",
      "Objective value at epoch t=86 is 0.47536330820306516\n",
      "Objective value at epoch t=87 is 0.475362953676535\n",
      "Objective value at epoch t=88 is 0.47536309958930206\n",
      "Objective value at epoch t=89 is 0.47536297026159363\n",
      "Objective value at epoch t=90 is 0.4753630139934959\n",
      "Objective value at epoch t=91 is 0.47536296305092385\n",
      "Objective value at epoch t=92 is 0.47536264626446884\n",
      "Objective value at epoch t=93 is 0.4753627010594811\n",
      "Objective value at epoch t=94 is 0.47536280010653337\n",
      "Objective value at epoch t=95 is 0.47536252907375703\n",
      "Objective value at epoch t=96 is 0.4753625008942504\n",
      "Objective value at epoch t=97 is 0.4753624365183815\n",
      "Objective value at epoch t=98 is 0.47536253914828297\n",
      "Objective value at epoch t=99 is 0.4753625121938619\n"
     ]
    }
   ],
   "source": [
    "# MB-SGD with batch size b=64\n",
    "lam = 1E-6 # do not change\n",
    "b = 64 # do not change\n",
    "stepsize = 0.9 # you must tune this parameter\n",
    "\n",
    "w_mbsgd64, objvals_mbsgd64 = mb_sgd(x_train, y_train, lam, b, stepsize)"
   ]
  },
  {
   "cell_type": "markdown",
   "metadata": {},
   "source": [
    "# 7. Plot and compare GD, SGD, and MB-SGD"
   ]
  },
  {
   "cell_type": "markdown",
   "metadata": {},
   "source": [
    "You are required to compare the following algorithms:\n",
    "\n",
    "- Gradient descent (GD)\n",
    "\n",
    "- SGD\n",
    "\n",
    "- MB-SGD with b=8\n",
    "\n",
    "- MB-SGD with b=64\n",
    "\n",
    "Follow the code in Section 4 to plot ```objective function value``` against ```epochs```. There should be four curves in the plot; each curve corresponds to one algorithm."
   ]
  },
  {
   "cell_type": "markdown",
   "metadata": {},
   "source": [
    "Hint: Logistic regression with $\\ell_2$-norm regularization is a strongly convex optimization problem. All the algorithms will converge to the same solution. **In the end, the ``objective function value`` of the 4 algorithms will be the same. If not the same, your implementation must be wrong. Do NOT submit wrong code and wrong result!**"
   ]
  },
  {
   "cell_type": "code",
   "execution_count": 21,
   "metadata": {},
   "outputs": [
    {
     "data": {
      "image/png": "[encoded data removed]",
      "text/plain": [
       "<Figure size 720x432 with 1 Axes>"
      ]
     },
     "metadata": {
      "needs_background": "light"
     },
     "output_type": "display_data"
    }
   ],
   "source": [
    "# plot the 4 curves:\n",
    "fig = plt.figure(figsize=(10, 6))\n",
    "\n",
    "epochs_gd = range(len(objvals_gd))\n",
    "epochs_sgd = range(len(objvals_sgd))\n",
    "epochs_mbsgd8 = range(len(objvals_mbsgd8))\n",
    "epochs_mbsgd64 = range(len(objvals_mbsgd64))\n",
    "\n",
    "line0, = plt.plot(epochs_gd, objvals_gd, '--b', linewidth=4)\n",
    "line1, = plt.plot(epochs_sgd, objvals_sgd, '-r', linewidth=2)\n",
    "line2, = plt.plot(epochs_mbsgd8, objvals_mbsgd8, '-.c', linewidth=3)\n",
    "line3, = plt.plot(epochs_mbsgd64, objvals_mbsgd64, ':g', linewidth=2.5)\n",
    "\n",
    "\n",
    "plt.xlabel('Epochs', fontsize=20)\n",
    "plt.ylabel('Objective Value', fontsize=20)\n",
    "plt.xticks(fontsize=16)\n",
    "plt.yticks(fontsize=16)\n",
    "plt.legend([line0, line1, line2, line3], ['GD', 'SGD', 'MB-SGD-8', 'MB-SGD-64'], fontsize=20)\n",
    "plt.tight_layout()\n",
    "plt.show()\n",
    "fig.savefig('compare_gd_sgd_mbsdg8_mbsgd64.pdf', format='pdf', dpi=1200)"
   ]
  },
  {
   "cell_type": "markdown",
   "metadata": {},
   "source": [
    "# 8. Prediction Results for MB-SGD"
   ]
  },
  {
   "cell_type": "code",
   "execution_count": 22,
   "metadata": {},
   "outputs": [
    {
     "name": "stdout",
     "output_type": "stream",
     "text": [
      "Training classification error for MB-SGD-8 is 0.221875\n",
      "Training classification error for MB-SGD-64 is 0.221875\n"
     ]
    }
   ],
   "source": [
    "# evaluate training errors\n",
    "f_train_mbsgd8 = predict(w_mbsgd8, x_train)\n",
    "f_train_mbsgd64 = predict(w_mbsgd64, x_train)\n",
    "\n",
    "diff_mbsg8 = numpy.abs(f_train_mbsgd8 - y_train) / 2\n",
    "diff_mbsg64 = numpy.abs(f_train_mbsgd64 - y_train) / 2\n",
    "\n",
    "error_train_mbsgd8 = numpy.mean(diff_mbsg8)\n",
    "error_train_mbsgd64 = numpy.mean(diff_mbsg64)\n",
    "\n",
    "print('Training classification error for MB-SGD-8 is ' + str(error_train_mbsgd8))\n",
    "print('Training classification error for MB-SGD-64 is ' + str(error_train_mbsgd64))"
   ]
  },
  {
   "cell_type": "code",
   "execution_count": 23,
   "metadata": {},
   "outputs": [
    {
     "name": "stdout",
     "output_type": "stream",
     "text": [
      "testing classification error for MB-SGD-8 is 0.21875\n",
      "testing classification error for MB-SGD-64 is 0.21875\n"
     ]
    }
   ],
   "source": [
    "# evaluate test errors\n",
    "f_test_mbsgd8 = predict(w_mbsgd8, x_test)\n",
    "f_test_mbsgd64 = predict(w_mbsgd64, x_test)\n",
    "\n",
    "diff_mbsg8 = numpy.abs(f_test_mbsgd8 - y_test) / 2\n",
    "diff_mbsg64 = numpy.abs(f_test_mbsgd64 - y_test) / 2\n",
    "\n",
    "error_test_mbsgd8 = numpy.mean(diff_mbsg8)\n",
    "error_test_mbsgd64 = numpy.mean(diff_mbsg64)\n",
    "\n",
    "print('testing classification error for MB-SGD-8 is ' + str(error_test_mbsgd8))\n",
    "print('testing classification error for MB-SGD-64 is ' + str(error_test_mbsgd64))"
   ]
  },
  {
   "cell_type": "markdown",
   "metadata": {},
   "source": []
  }
 ],
 "metadata": {
  "kernelspec": {
   "display_name": "CSDL",
   "language": "python",
   "name": "csdl"
  },
  "language_info": {
   "codemirror_mode": {
    "name": "ipython",
    "version": 3
   },
   "file_extension": ".py",
   "mimetype": "text/x-python",
   "name": "python",
   "nbconvert_exporter": "python",
   "pygments_lexer": "ipython3",
   "version": "3.8.5"
  }
 },
 "nbformat": 4,
 "nbformat_minor": 4
}
