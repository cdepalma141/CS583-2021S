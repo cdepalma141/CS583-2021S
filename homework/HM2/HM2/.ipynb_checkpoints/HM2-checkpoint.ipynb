{
 "cells": [
  {
   "cell_type": "markdown",
   "metadata": {},
   "source": [
    "# HM2: Numerical Optimization for Logistic Regression.\n",
    "\n",
    "### Name: Connor DePalma\n"
   ]
  },
  {
   "cell_type": "markdown",
   "metadata": {},
   "source": [
    "## 0. You will do the following:\n",
    "\n",
    "1. Read the lecture note: [click here](https://github.com/wangshusen/DeepLearning/blob/master/LectureNotes/Logistic/paper/logistic.pdf)\n",
    "\n",
    "2. Read, complete, and run my code.\n",
    "\n",
    "3. **Implement mini-batch SGD** and evaluate the performance.\n",
    "\n",
    "4. Convert the .IPYNB file to .HTML file.\n",
    "\n",
    "    * The HTML file must contain **the code** and **the output after execution**.\n",
    "    \n",
    "    * Missing **the output after execution** will not be graded.\n",
    "    \n",
    "5. Upload this .HTML file to your Google Drive, Dropbox, or your Github repo.  (If you submit the file to Google Drive or Dropbox, you must make the file \"open-access\". The delay caused by \"deny of access\" may result in late penalty.)\n",
    "\n",
    "6. Submit the link to this .HTML file to Canvas.\n",
    "\n",
    "    * Example: https://github.com/wangshusen/CS583-2020S/blob/master/homework/HM2/HM2.html\n",
    "\n",
    "\n",
    "## Grading criteria:\n",
    "\n",
    "1. When computing the ```gradient``` and ```objective function value``` using a batch of samples, use **matrix-vector multiplication** rather than a FOR LOOP of **vector-vector multiplications**.\n",
    "\n",
    "2. Plot ```objective function value``` against ```epochs```. In the plot, compare GD, SGD, and MB-SGD (with $b=8$ and $b=64$). The plot must look reasonable."
   ]
  },
  {
   "cell_type": "markdown",
   "metadata": {},
   "source": [
    "# 1. Data processing\n",
    "\n",
    "- Download the Diabete dataset from https://www.csie.ntu.edu.tw/~cjlin/libsvmtools/datasets/binary/diabetes\n",
    "- Load the data using sklearn.\n",
    "- Preprocess the data."
   ]
  },
  {
   "cell_type": "markdown",
   "metadata": {},
   "source": [
    "## 1.1. Load the data"
   ]
  },
  {
   "cell_type": "code",
   "execution_count": 1,
   "metadata": {},
   "outputs": [
    {
     "name": "stdout",
     "output_type": "stream",
     "text": [
      "Shape of x: (768, 8)\n",
      "Shape of y: (768,)\n"
     ]
    }
   ],
   "source": [
    "from sklearn import datasets\n",
    "import numpy\n",
    "\n",
    "x_sparse, y = datasets.load_svmlight_file('diabetes')\n",
    "x = x_sparse.todense()\n",
    "\n",
    "print('Shape of x: ' + str(x.shape))\n",
    "print('Shape of y: ' + str(y.shape))"
   ]
  },
  {
   "cell_type": "markdown",
   "metadata": {},
   "source": [
    "## 1.2. Partition to training and test sets"
   ]
  },
  {
   "cell_type": "code",
   "execution_count": 2,
   "metadata": {},
   "outputs": [
    {
     "name": "stdout",
     "output_type": "stream",
     "text": [
      "Shape of x_train: (640, 8)\n",
      "Shape of x_test: (128, 8)\n",
      "Shape of y_train: (640, 1)\n",
      "Shape of y_test: (128, 1)\n"
     ]
    }
   ],
   "source": [
    "# partition the data to training and test sets\n",
    "n = x.shape[0]\n",
    "n_train = 640\n",
    "n_test = n - n_train\n",
    "\n",
    "rand_indices = numpy.random.permutation(n)\n",
    "train_indices = rand_indices[0:n_train]\n",
    "test_indices = rand_indices[n_train:n]\n",
    "\n",
    "x_train = x[train_indices, :]\n",
    "x_test = x[test_indices, :]\n",
    "y_train = y[train_indices].reshape(n_train, 1)\n",
    "y_test = y[test_indices].reshape(n_test, 1)\n",
    "\n",
    "print('Shape of x_train: ' + str(x_train.shape))\n",
    "print('Shape of x_test: ' + str(x_test.shape))\n",
    "print('Shape of y_train: ' + str(y_train.shape))\n",
    "print('Shape of y_test: ' + str(y_test.shape))"
   ]
  },
  {
   "cell_type": "markdown",
   "metadata": {},
   "source": [
    "## 1.3. Feature scaling"
   ]
  },
  {
   "cell_type": "markdown",
   "metadata": {},
   "source": [
    "Use the standardization to trainsform both training and test features"
   ]
  },
  {
   "cell_type": "code",
   "execution_count": 3,
   "metadata": {},
   "outputs": [
    {
     "name": "stdout",
     "output_type": "stream",
     "text": [
      "test mean = \n",
      "[[-0.0447962  -0.12716906 -0.01494648 -0.01586522 -0.11000923 -0.03804399\n",
      "   0.13909703  0.03591864]]\n",
      "test std = \n",
      "[[0.97043018 0.99207527 1.06480563 1.06808119 0.76559985 1.11343924\n",
      "  1.11972501 0.98087223]]\n"
     ]
    }
   ],
   "source": [
    "# Standardization\n",
    "import numpy\n",
    "\n",
    "# calculate mu and sig using the training set\n",
    "d = x_train.shape[1]\n",
    "mu = numpy.mean(x_train, axis=0).reshape(1, d)\n",
    "sig = numpy.std(x_train, axis=0).reshape(1, d)\n",
    "\n",
    "# transform the training features\n",
    "x_train = (x_train - mu) / (sig + 1E-6)\n",
    "\n",
    "# transform the test features\n",
    "x_test = (x_test - mu) / (sig + 1E-6)\n",
    "\n",
    "print('test mean = ')\n",
    "print(numpy.mean(x_test, axis=0))\n",
    "\n",
    "print('test std = ')\n",
    "print(numpy.std(x_test, axis=0))"
   ]
  },
  {
   "cell_type": "markdown",
   "metadata": {},
   "source": [
    "## 1.4. Add a dimension of all ones"
   ]
  },
  {
   "cell_type": "code",
   "execution_count": 4,
   "metadata": {},
   "outputs": [
    {
     "name": "stdout",
     "output_type": "stream",
     "text": [
      "Shape of x_train: (640, 9)\n",
      "Shape of x_test: (128, 9)\n"
     ]
    }
   ],
   "source": [
    "n_train, d = x_train.shape\n",
    "x_train = numpy.concatenate((x_train, numpy.ones((n_train, 1))), axis=1)\n",
    "\n",
    "n_test, d = x_test.shape\n",
    "x_test = numpy.concatenate((x_test, numpy.ones((n_test, 1))), axis=1)\n",
    "\n",
    "print('Shape of x_train: ' + str(x_train.shape))\n",
    "print('Shape of x_test: ' + str(x_test.shape))"
   ]
  },
  {
   "cell_type": "markdown",
   "metadata": {},
   "source": [
    "# 2. Logistic regression model\n",
    "\n",
    "The objective function is $Q (w; X, y) = \\frac{1}{n} \\sum_{i=1}^n \\log \\Big( 1 + \\exp \\big( - y_i x_i^T w \\big) \\Big) + \\frac{\\lambda}{2} \\| w \\|_2^2 $."
   ]
  },
  {
   "cell_type": "code",
   "execution_count": 5,
   "metadata": {},
   "outputs": [],
   "source": [
    "# Calculate the objective function value\n",
    "# Inputs:\n",
    "#     w: d-by-1 matrix\n",
    "#     x: n-by-d matrix\n",
    "#     y: n-by-1 matrix\n",
    "#     lam: scalar, the regularization parameter\n",
    "# Return:\n",
    "#     objective function value (scalar)\n",
    "def objective(w, x, y, lam):\n",
    "    n, d = x.shape\n",
    "    yx = numpy.multiply(y, x) # n-by-d matrix\n",
    "    yxw = numpy.dot(yx, w) # n-by-1 matrix\n",
    "    vec1 = numpy.exp(-yxw) # n-by-1 matrix\n",
    "    vec2 = numpy.log(1 + vec1) # n-by-1 matrix\n",
    "    loss = numpy.mean(vec2) # scalar\n",
    "    reg = lam / 2 * numpy.sum(w * w) # scalar\n",
    "    return loss + reg\n",
    "    "
   ]
  },
  {
   "cell_type": "code",
   "execution_count": 6,
   "metadata": {},
   "outputs": [
    {
     "name": "stdout",
     "output_type": "stream",
     "text": [
      "Initial objective function value = 0.6931471805599453\n"
     ]
    }
   ],
   "source": [
    "# initialize w\n",
    "d = x_train.shape[1]\n",
    "w = numpy.zeros((d, 1))\n",
    "\n",
    "# evaluate the objective function value at w\n",
    "lam = 1E-6\n",
    "objval0 = objective(w, x_train, y_train, lam)\n",
    "print('Initial objective function value = ' + str(objval0))"
   ]
  },
  {
   "cell_type": "markdown",
   "metadata": {},
   "source": [
    "# 3. Numerical optimization"
   ]
  },
  {
   "cell_type": "markdown",
   "metadata": {},
   "source": [
    "## 3.1. Gradient descent\n"
   ]
  },
  {
   "cell_type": "markdown",
   "metadata": {},
   "source": [
    "The gradient at $w$ is $g = - \\frac{1}{n} \\sum_{i=1}^n \\frac{y_i x_i }{1 + \\exp ( y_i x_i^T w)} + \\lambda w$"
   ]
  },
  {
   "cell_type": "code",
   "execution_count": 7,
   "metadata": {},
   "outputs": [],
   "source": [
    "# Calculate the gradient\n",
    "# Inputs:\n",
    "#     w: d-by-1 matrix\n",
    "#     x: n-by-d matrix\n",
    "#     y: n-by-1 matrix\n",
    "#     lam: scalar, the regularization parameter\n",
    "# Return:\n",
    "#     g: g: d-by-1 matrix, full gradient\n",
    "def gradient(w, x, y, lam):\n",
    "    n, d = x.shape\n",
    "    yx = numpy.multiply(y, x) # n-by-d matrix\n",
    "    yxw = numpy.dot(yx, w) # n-by-1 matrix\n",
    "    vec1 = numpy.exp(yxw) # n-by-1 matrix\n",
    "    vec2 = numpy.divide(yx, 1+vec1) # n-by-d matrix\n",
    "    vec3 = -numpy.mean(vec2, axis=0).reshape(d, 1) # d-by-1 matrix\n",
    "    g = vec3 + lam * w\n",
    "    return g"
   ]
  },
  {
   "cell_type": "code",
   "execution_count": 8,
   "metadata": {},
   "outputs": [],
   "source": [
    "# Gradient descent for solving logistic regression\n",
    "# Inputs:\n",
    "#     x: n-by-d matrix\n",
    "#     y: n-by-1 matrix\n",
    "#     lam: scalar, the regularization parameter\n",
    "#     stepsize: scalar\n",
    "#     max_iter: integer, the maximal iterations\n",
    "#     w: d-by-1 matrix, initialization of w\n",
    "# Return:\n",
    "#     w: d-by-1 matrix, the solution\n",
    "#     objvals: a record of each iteration's objective value\n",
    "def grad_descent(x, y, lam, stepsize, max_iter=100, w=None):\n",
    "    n, d = x.shape\n",
    "    objvals = numpy.zeros(max_iter) # store the objective values\n",
    "    if w is None:\n",
    "        w = numpy.zeros((d, 1)) # zero initialization\n",
    "    \n",
    "    for t in range(max_iter):\n",
    "        objval = objective(w, x, y, lam)\n",
    "        objvals[t] = objval\n",
    "        print('Objective value at t=' + str(t) + ' is ' + str(objval))\n",
    "        g = gradient(w, x, y, lam)\n",
    "        w -= stepsize * g\n",
    "    \n",
    "    return w, objvals"
   ]
  },
  {
   "cell_type": "markdown",
   "metadata": {},
   "source": [
    "Run gradient descent."
   ]
  },
  {
   "cell_type": "code",
   "execution_count": 9,
   "metadata": {},
   "outputs": [
    {
     "name": "stdout",
     "output_type": "stream",
     "text": [
      "Objective value at t=0 is 0.6931471805599453\n",
      "Objective value at t=1 is 0.5862146129704306\n",
      "Objective value at t=2 is 0.5428991135211554\n",
      "Objective value at t=3 is 0.5195834614025892\n",
      "Objective value at t=4 is 0.5049689933067114\n",
      "Objective value at t=5 is 0.4950148361977007\n",
      "Objective value at t=6 is 0.4878842766331668\n",
      "Objective value at t=7 is 0.4826019922112957\n",
      "Objective value at t=8 is 0.47859343654887665\n",
      "Objective value at t=9 is 0.4754951364843802\n",
      "Objective value at t=10 is 0.473065196484976\n",
      "Objective value at t=11 is 0.47113649043558936\n",
      "Objective value at t=12 is 0.46959017569248\n",
      "Objective value at t=13 is 0.46833977636092566\n",
      "Objective value at t=14 is 0.4673211628756777\n",
      "Objective value at t=15 is 0.4664860086747132\n",
      "Objective value at t=16 is 0.46579738970649337\n",
      "Objective value at t=17 is 0.46522675210286296\n",
      "Objective value at t=18 is 0.46475177909872817\n",
      "Objective value at t=19 is 0.4643548635062719\n",
      "Objective value at t=20 is 0.46402199651780623\n",
      "Objective value at t=21 is 0.46374194796698615\n",
      "Objective value at t=22 is 0.46350565393003285\n",
      "Objective value at t=23 is 0.4633057539666047\n",
      "Objective value at t=24 is 0.46313623777780727\n",
      "Objective value at t=25 is 0.46299217283131877\n",
      "Objective value at t=26 is 0.4628694925615043\n",
      "Objective value at t=27 is 0.46276483034861654\n",
      "Objective value at t=28 is 0.4626753884199062\n",
      "Objective value at t=29 is 0.46259883362189314\n",
      "Objective value at t=30 is 0.4625332140356536\n",
      "Objective value at t=31 is 0.4624768918802552\n",
      "Objective value at t=32 is 0.46242848923336827\n",
      "Objective value at t=33 is 0.4623868439029666\n",
      "Objective value at t=34 is 0.46235097338701103\n",
      "Objective value at t=35 is 0.4623200453134568\n",
      "Objective value at t=36 is 0.4622933530996269\n",
      "Objective value at t=37 is 0.46227029583586055\n",
      "Objective value at t=38 is 0.4622503616036209\n",
      "Objective value at t=39 is 0.46223311359779135\n",
      "Objective value at t=40 is 0.4622181785476509\n",
      "Objective value at t=41 is 0.4622052370291433\n",
      "Objective value at t=42 is 0.4621940153386624\n",
      "Objective value at t=43 is 0.46218427866027817\n",
      "Objective value at t=44 is 0.46217582530760737\n",
      "Objective value at t=45 is 0.462168481861103\n",
      "Objective value at t=46 is 0.4621620990534203\n",
      "Objective value at t=47 is 0.4621565482813397\n",
      "Objective value at t=48 is 0.4621517186436994\n",
      "Objective value at t=49 is 0.4621475144219143\n",
      "Objective value at t=50 is 0.4621438529336583\n",
      "Objective value at t=51 is 0.46214066270179793\n",
      "Objective value at t=52 is 0.4621378818901465\n",
      "Objective value at t=53 is 0.46213545696543723\n",
      "Objective value at t=54 is 0.4621333415514122\n",
      "Objective value at t=55 is 0.46213149544631565\n",
      "Objective value at t=56 is 0.462129883779573\n",
      "Objective value at t=57 is 0.4621284762871957\n",
      "Objective value at t=58 is 0.46212724668858707\n",
      "Objective value at t=59 is 0.46212617215006224\n",
      "Objective value at t=60 is 0.46212523282260953\n",
      "Objective value at t=61 is 0.46212441144328553\n",
      "Objective value at t=62 is 0.4621236929912084\n",
      "Objective value at t=63 is 0.46212306439044637\n",
      "Objective value at t=64 is 0.4621225142532204\n",
      "Objective value at t=65 is 0.4621220326577977\n",
      "Objective value at t=66 is 0.46212161095626364\n",
      "Objective value at t=67 is 0.4621212416080433\n",
      "Objective value at t=68 is 0.4621209180356398\n",
      "Objective value at t=69 is 0.46212063449954943\n",
      "Objective value at t=70 is 0.46212038598974325\n",
      "Objective value at t=71 is 0.4621201681314722\n",
      "Objective value at t=72 is 0.4621199771034614\n",
      "Objective value at t=73 is 0.4621198095668294\n",
      "Objective value at t=74 is 0.46211966260329584\n",
      "Objective value at t=75 is 0.46211953366144115\n",
      "Objective value at t=76 is 0.4621194205099458\n",
      "Objective value at t=77 is 0.46211932119688565\n",
      "Objective value at t=78 is 0.4621192340142867\n",
      "Objective value at t=79 is 0.46211915746724314\n",
      "Objective value at t=80 is 0.462119090247005\n",
      "Objective value at t=81 is 0.46211903120751346\n",
      "Objective value at t=82 is 0.46211897934493606\n",
      "Objective value at t=83 is 0.4621189337798115\n",
      "Objective value at t=84 is 0.46211889374146664\n",
      "Objective value at t=85 is 0.46211885855441054\n",
      "Objective value at t=86 is 0.46211882762645345\n",
      "Objective value at t=87 is 0.4621188004383256\n",
      "Objective value at t=88 is 0.4621187765346071\n",
      "Objective value at t=89 is 0.462118755515798\n",
      "Objective value at t=90 is 0.4621187370313857\n",
      "Objective value at t=91 is 0.4621187207737809\n",
      "Objective value at t=92 is 0.46211870647301256\n",
      "Objective value at t=93 is 0.46211869389208615\n",
      "Objective value at t=94 is 0.46211868282291924\n",
      "Objective value at t=95 is 0.4621186730827854\n",
      "Objective value at t=96 is 0.4621186645111974\n",
      "Objective value at t=97 is 0.46211865696717913\n",
      "Objective value at t=98 is 0.46211865032687444\n",
      "Objective value at t=99 is 0.4621186444814521\n"
     ]
    }
   ],
   "source": [
    "lam = 1E-6\n",
    "stepsize = 1.0\n",
    "w, objvals_gd = grad_descent(x_train, y_train, lam, stepsize)"
   ]
  },
  {
   "cell_type": "markdown",
   "metadata": {},
   "source": [
    "## 3.2. Stochastic gradient descent (SGD)\n",
    "\n",
    "Define $Q_i (w) = \\log \\Big( 1 + \\exp \\big( - y_i x_i^T w \\big) \\Big) + \\frac{\\lambda}{2} \\| w \\|_2^2 $.\n",
    "\n",
    "The stochastic gradient at $w$ is $g_i = \\frac{\\partial Q_i }{ \\partial w} = -\\frac{y_i x_i }{1 + \\exp ( y_i x_i^T w)} + \\lambda w$."
   ]
  },
  {
   "cell_type": "code",
   "execution_count": 10,
   "metadata": {},
   "outputs": [],
   "source": [
    "# Calculate the objective Q_i and the gradient of Q_i\n",
    "# Inputs:\n",
    "#     w: d-by-1 matrix\n",
    "#     xi: 1-by-d matrix\n",
    "#     yi: scalar\n",
    "#     lam: scalar, the regularization parameter\n",
    "# Return:\n",
    "#     obj: scalar, the objective Q_i\n",
    "#     g: d-by-1 matrix, gradient of Q_i\n",
    "def stochastic_objective_gradient(w, xi, yi, lam):\n",
    "    d = xi.shape[0]\n",
    "    yx = yi * xi # 1-by-d matrix\n",
    "    yxw = float(numpy.dot(yx, w)) # scalar\n",
    "    \n",
    "    # calculate objective function Q_i\n",
    "    loss = numpy.log(1 + numpy.exp(-yxw)) # scalar\n",
    "    reg = lam / 2 * numpy.sum(w * w) # scalar\n",
    "    obj = loss + reg\n",
    "    \n",
    "    # calculate stochastic gradient\n",
    "    g_loss = -yx.T / (1 + numpy.exp(yxw)) # d-by-1 matrix\n",
    "    g = g_loss + lam * w # d-by-1 matrix\n",
    "    \n",
    "    return obj, g"
   ]
  },
  {
   "cell_type": "code",
   "execution_count": 11,
   "metadata": {},
   "outputs": [],
   "source": [
    "# SGD for solving logistic regression\n",
    "# Inputs:\n",
    "#     x: n-by-d matrix\n",
    "#     y: n-by-1 matrix\n",
    "#     lam: scalar, the regularization parameter\n",
    "#     stepsize: scalar\n",
    "#     max_epoch: integer, the maximal epochs\n",
    "#     w: d-by-1 matrix, initialization of w\n",
    "# Return:\n",
    "#     w: the solution\n",
    "#     objvals: record of each iteration's objective value\n",
    "def sgd(x, y, lam, stepsize, max_epoch=100, w=None):\n",
    "    n, d = x.shape\n",
    "    objvals = numpy.zeros(max_epoch) # store the objective values\n",
    "    if w is None:\n",
    "        w = numpy.zeros((d, 1)) # zero initialization\n",
    "    \n",
    "    for t in range(max_epoch):\n",
    "        # randomly shuffle the samples\n",
    "        rand_indices = numpy.random.permutation(n)\n",
    "        x_rand = x[rand_indices, :]\n",
    "        y_rand = y[rand_indices, :]\n",
    "        \n",
    "        objval = 0 # accumulate the objective values\n",
    "        for i in range(n):\n",
    "            xi = x_rand[i, :] # 1-by-d matrix\n",
    "            yi = float(y_rand[i, :]) # scalar\n",
    "            obj, g = stochastic_objective_gradient(w, xi, yi, lam)\n",
    "            objval += obj\n",
    "            w -= stepsize * g\n",
    "        \n",
    "        stepsize *= 0.9 # decrease step size\n",
    "        objval /= n\n",
    "        objvals[t] = objval\n",
    "        print('Objective value at epoch t=' + str(t) + ' is ' + str(objval))\n",
    "    \n",
    "    return w, objvals"
   ]
  },
  {
   "cell_type": "markdown",
   "metadata": {},
   "source": [
    "Run SGD."
   ]
  },
  {
   "cell_type": "code",
   "execution_count": 12,
   "metadata": {},
   "outputs": [
    {
     "name": "stdout",
     "output_type": "stream",
     "text": [
      "Objective value at epoch t=0 is 0.5167565660422495\n",
      "Objective value at epoch t=1 is 0.5075832819623332\n",
      "Objective value at epoch t=2 is 0.5057599611256016\n",
      "Objective value at epoch t=3 is 0.5080855887899218\n",
      "Objective value at epoch t=4 is 0.49249561923609386\n",
      "Objective value at epoch t=5 is 0.4945655897204283\n",
      "Objective value at epoch t=6 is 0.4923022094339644\n",
      "Objective value at epoch t=7 is 0.48633546349862994\n",
      "Objective value at epoch t=8 is 0.48380425465262167\n",
      "Objective value at epoch t=9 is 0.484803397065839\n",
      "Objective value at epoch t=10 is 0.48124787522970386\n",
      "Objective value at epoch t=11 is 0.47786409521228446\n",
      "Objective value at epoch t=12 is 0.4804230843088148\n",
      "Objective value at epoch t=13 is 0.47691302430837784\n",
      "Objective value at epoch t=14 is 0.4770546469702725\n",
      "Objective value at epoch t=15 is 0.47503303832209853\n",
      "Objective value at epoch t=16 is 0.4743120401647648\n",
      "Objective value at epoch t=17 is 0.4729637598490294\n",
      "Objective value at epoch t=18 is 0.4722391307714692\n",
      "Objective value at epoch t=19 is 0.47127614431378956\n",
      "Objective value at epoch t=20 is 0.47057743477874175\n",
      "Objective value at epoch t=21 is 0.4699514507353932\n",
      "Objective value at epoch t=22 is 0.46870025799481596\n",
      "Objective value at epoch t=23 is 0.46812452971128826\n",
      "Objective value at epoch t=24 is 0.4677006212348814\n",
      "Objective value at epoch t=25 is 0.46713717513875086\n",
      "Objective value at epoch t=26 is 0.4663694920437778\n",
      "Objective value at epoch t=27 is 0.46636199842788795\n",
      "Objective value at epoch t=28 is 0.4659285447737688\n",
      "Objective value at epoch t=29 is 0.46551681300111947\n",
      "Objective value at epoch t=30 is 0.46497818958554504\n",
      "Objective value at epoch t=31 is 0.4649054596371232\n",
      "Objective value at epoch t=32 is 0.4647035504001725\n",
      "Objective value at epoch t=33 is 0.46443959668139145\n",
      "Objective value at epoch t=34 is 0.4641645897087274\n",
      "Objective value at epoch t=35 is 0.4639280300217612\n",
      "Objective value at epoch t=36 is 0.46374758315651726\n",
      "Objective value at epoch t=37 is 0.46363481200697365\n",
      "Objective value at epoch t=38 is 0.463478937032843\n",
      "Objective value at epoch t=39 is 0.4633247670696862\n",
      "Objective value at epoch t=40 is 0.463201827008319\n",
      "Objective value at epoch t=41 is 0.4630747398128858\n",
      "Objective value at epoch t=42 is 0.4630252900125365\n",
      "Objective value at epoch t=43 is 0.46293665255651745\n",
      "Objective value at epoch t=44 is 0.46284557190738457\n",
      "Objective value at epoch t=45 is 0.462777150645989\n",
      "Objective value at epoch t=46 is 0.4627114491370367\n",
      "Objective value at epoch t=47 is 0.4626462976823776\n",
      "Objective value at epoch t=48 is 0.4626038008090583\n",
      "Objective value at epoch t=49 is 0.4625482167268258\n",
      "Objective value at epoch t=50 is 0.4625094338177112\n",
      "Objective value at epoch t=51 is 0.46247081287957287\n",
      "Objective value at epoch t=52 is 0.4624374867691845\n",
      "Objective value at epoch t=53 is 0.462403876184361\n",
      "Objective value at epoch t=54 is 0.46237668693269135\n",
      "Objective value at epoch t=55 is 0.46235058399068807\n",
      "Objective value at epoch t=56 is 0.4623271402768398\n",
      "Objective value at epoch t=57 is 0.4623070738791092\n",
      "Objective value at epoch t=58 is 0.4622875991870135\n",
      "Objective value at epoch t=59 is 0.46227117390774153\n",
      "Objective value at epoch t=60 is 0.46225611720253196\n",
      "Objective value at epoch t=61 is 0.4622420745332869\n",
      "Objective value at epoch t=62 is 0.4622301243891373\n",
      "Objective value at epoch t=63 is 0.4622190667176014\n",
      "Objective value at epoch t=64 is 0.4622089829737387\n",
      "Objective value at epoch t=65 is 0.46220008168955695\n",
      "Objective value at epoch t=66 is 0.46219202737806875\n",
      "Objective value at epoch t=67 is 0.4621846726509517\n",
      "Objective value at epoch t=68 is 0.4621780303277876\n",
      "Objective value at epoch t=69 is 0.46217224587743366\n",
      "Objective value at epoch t=70 is 0.4621669519795975\n",
      "Objective value at epoch t=71 is 0.4621621153828335\n",
      "Objective value at epoch t=72 is 0.4621578590274356\n",
      "Objective value at epoch t=73 is 0.4621539758985375\n",
      "Objective value at epoch t=74 is 0.462150473710072\n",
      "Objective value at epoch t=75 is 0.46214730767726\n",
      "Objective value at epoch t=76 is 0.4621445098127053\n",
      "Objective value at epoch t=77 is 0.46214195927710106\n",
      "Objective value at epoch t=78 is 0.46213967377708143\n",
      "Objective value at epoch t=79 is 0.46213761394926917\n",
      "Objective value at epoch t=80 is 0.462135747322305\n",
      "Objective value at epoch t=81 is 0.4621340859732137\n",
      "Objective value at epoch t=82 is 0.462132583333449\n",
      "Objective value at epoch t=83 is 0.46213122979486937\n",
      "Objective value at epoch t=84 is 0.46213001090438655\n",
      "Objective value at epoch t=85 is 0.4621289155108622\n",
      "Objective value at epoch t=86 is 0.4621279281953369\n",
      "Objective value at epoch t=87 is 0.4621270384261285\n",
      "Objective value at epoch t=88 is 0.46212623978856476\n",
      "Objective value at epoch t=89 is 0.46212552075542535\n",
      "Objective value at epoch t=90 is 0.46212487298388877\n",
      "Objective value at epoch t=91 is 0.462124290199753\n",
      "Objective value at epoch t=92 is 0.4621237658341856\n",
      "Objective value at epoch t=93 is 0.4621232933881754\n",
      "Objective value at epoch t=94 is 0.4621228687156755\n",
      "Objective value at epoch t=95 is 0.4621224865062478\n",
      "Objective value at epoch t=96 is 0.4621221423288673\n",
      "Objective value at epoch t=97 is 0.46212183261893164\n",
      "Objective value at epoch t=98 is 0.46212155375082214\n",
      "Objective value at epoch t=99 is 0.46212130288300984\n"
     ]
    }
   ],
   "source": [
    "lam = 1E-6\n",
    "stepsize = 0.1\n",
    "w, objvals_sgd = sgd(x_train, y_train, lam, stepsize)"
   ]
  },
  {
   "cell_type": "markdown",
   "metadata": {},
   "source": [
    "# 4. Compare GD with SGD\n",
    "\n",
    "Plot objective function values against epochs."
   ]
  },
  {
   "cell_type": "code",
   "execution_count": 13,
   "metadata": {},
   "outputs": [
    {
     "data": {
      "image/png": "[encoded data removed]",
      "text/plain": [
       "<Figure size 432x288 with 1 Axes>"
      ]
     },
     "metadata": {
      "needs_background": "light"
     },
     "output_type": "display_data"
    }
   ],
   "source": [
    "import matplotlib.pyplot as plt\n",
    "%matplotlib inline\n",
    "\n",
    "fig = plt.figure(figsize=(6, 4))\n",
    "\n",
    "epochs_gd = range(len(objvals_gd))\n",
    "epochs_sgd = range(len(objvals_sgd))\n",
    "\n",
    "line0, = plt.plot(epochs_gd, objvals_gd, '--b', linewidth=4)\n",
    "line1, = plt.plot(epochs_sgd, objvals_sgd, '-r', linewidth=2)\n",
    "plt.xlabel('Epochs', fontsize=20)\n",
    "plt.ylabel('Objective Value', fontsize=20)\n",
    "plt.xticks(fontsize=16)\n",
    "plt.yticks(fontsize=16)\n",
    "plt.legend([line0, line1], ['GD', 'SGD'], fontsize=20)\n",
    "plt.tight_layout()\n",
    "plt.show()\n",
    "fig.savefig('compare_gd_sgd.pdf', format='pdf', dpi=1200)"
   ]
  },
  {
   "cell_type": "markdown",
   "metadata": {},
   "source": [
    "# 5. Prediction"
   ]
  },
  {
   "cell_type": "code",
   "execution_count": 14,
   "metadata": {},
   "outputs": [],
   "source": [
    "# Predict class label\n",
    "# Inputs:\n",
    "#     w: d-by-1 matrix\n",
    "#     X: m-by-d matrix\n",
    "# Return:\n",
    "#     f: m-by-1 matrix, the predictions\n",
    "def predict(w, X):\n",
    "    xw = numpy.dot(X, w)\n",
    "    f = numpy.sign(xw)\n",
    "    return f"
   ]
  },
  {
   "cell_type": "code",
   "execution_count": 15,
   "metadata": {},
   "outputs": [
    {
     "name": "stdout",
     "output_type": "stream",
     "text": [
      "Training classification error is 0.2140625\n"
     ]
    }
   ],
   "source": [
    "# evaluate training error\n",
    "f_train = predict(w, x_train)\n",
    "diff = numpy.abs(f_train - y_train) / 2\n",
    "error_train = numpy.mean(diff)\n",
    "print('Training classification error is ' + str(error_train))"
   ]
  },
  {
   "cell_type": "code",
   "execution_count": 16,
   "metadata": {},
   "outputs": [
    {
     "name": "stdout",
     "output_type": "stream",
     "text": [
      "Test classification error is 0.2265625\n"
     ]
    }
   ],
   "source": [
    "# evaluate test error\n",
    "f_test = predict(w, x_test)\n",
    "diff = numpy.abs(f_test - y_test) / 2\n",
    "error_test = numpy.mean(diff)\n",
    "print('Test classification error is ' + str(error_test))"
   ]
  },
  {
   "cell_type": "markdown",
   "metadata": {},
   "source": [
    "# 6. Mini-batch SGD (fill the code)\n",
    "\n"
   ]
  },
  {
   "cell_type": "markdown",
   "metadata": {},
   "source": [
    "## 6.1. Compute the objective $Q_I$ and its gradient using a batch of samples\n",
    "\n",
    "Define $Q_I (w) = \\frac{1}{b} \\sum_{i \\in I} \\log \\Big( 1 + \\exp \\big( - y_i x_i^T w \\big) \\Big) + \\frac{\\lambda}{2} \\| w \\|_2^2 $, where $I$ is a set containing $b$ indices randomly drawn from $\\{ 1, \\cdots , n \\}$ without replacement.\n",
    "\n",
    "The stochastic gradient at $w$ is $g_I = \\frac{\\partial Q_I }{ \\partial w} = \\frac{1}{b} \\sum_{i \\in I} \\frac{- y_i x_i }{1 + \\exp ( y_i x_i^T w)} + \\lambda w$."
   ]
  },
  {
   "cell_type": "code",
   "execution_count": 17,
   "metadata": {},
   "outputs": [],
   "source": [
    "# Calculate the objective Q_I and the gradient of Q_I\n",
    "# Inputs:\n",
    "#     w: d-by-1 matrix\n",
    "#     xi: b-by-d matrix\n",
    "#     yi: b-by-1 matrix\n",
    "#     lam: scalar, the regularization parameter\n",
    "#     b: integer, the batch size\n",
    "# Return:\n",
    "#     obj: scalar, the objective Q_i\n",
    "#     g: d-by-1 matrix, gradient of Q_i\n",
    "def mb_stochastic_objective_gradient(w, xi, yi, lam, b):\n",
    "    # Fill the function\n",
    "    # Follow the implementation of stochastic_objective_gradient\n",
    "    # Use matrix-vector multiplication; do not use FOR LOOP of vector-vector multiplications\n",
    "    d = xi.shape[1]\n",
    "    yx = numpy.multiply(yi,xi) # b-by-d matrix\n",
    "    yxw = numpy.dot(yx, w) # b-by-1 vector\n",
    "    \n",
    "    # calculate objective function Q_i\n",
    "    loss = numpy.log(1 + numpy.exp(-yxw)) # b-by-1 vector\n",
    "    reg = lam / 2 * numpy.sum(w * w) # scalar\n",
    "    obj = numpy.mean(loss, axis=0).item() + reg # scalar\n",
    "    \n",
    "    # calculate mb stochastic gradient\n",
    "    g_loss = -yx / (1 + numpy.exp(yxw)) # b-by-d matrix\n",
    "    g = numpy.mean(g_loss, axis=0).reshape(d,1) + lam * w # d-by-1 vector\n",
    "    \n",
    "    return obj, g"
   ]
  },
  {
   "cell_type": "markdown",
   "metadata": {},
   "source": [
    "## 6.2. Implement mini-batch SGD\n",
    "\n",
    "Hints:\n",
    "1. In every epoch, randomly permute the $n$ samples (just like SGD).\n",
    "2. Each epoch has $\\frac{n}{b}$ iterations. In every iteration, use $b$ samples, and compute the gradient and objective using the ``mb_stochastic_objective_gradient`` function. In the next iteration, use the next $b$ samples, and so on.\n"
   ]
  },
  {
   "cell_type": "code",
   "execution_count": 18,
   "metadata": {},
   "outputs": [],
   "source": [
    "# Mini-Batch SGD for solving logistic regression\n",
    "# Inputs:\n",
    "#     x: n-by-d matrix\n",
    "#     y: n-by-1 matrix\n",
    "#     lam: scalar, the regularization parameter\n",
    "#     b: integer, the batch size\n",
    "#     stepsize: scalar\n",
    "#     max_epoch: integer, the maximal epochs\n",
    "#     w: d-by-1 matrix, initialization of w\n",
    "# Return:\n",
    "#     w: the solution\n",
    "#     objvals: record of each iteration's objective value\n",
    "def mb_sgd(x, y, lam, b, stepsize, max_epoch=100, w=None):\n",
    "    # Fill the function\n",
    "    # Follow the implementation of sgd\n",
    "    # Record one objective value per epoch (not per iteration!)\n",
    "    n, d = x.shape\n",
    "    objvals = numpy.zeros(max_epoch) # store the objective values\n",
    "    if w is None:\n",
    "        w = numpy.zeros((d, 1)) # zero initialization\n",
    "    \n",
    "    for t in range(max_epoch):\n",
    "        # randomly shuffle the samples\n",
    "        rand_indices = numpy.random.permutation(n)\n",
    "        x_rand = x[rand_indices, :]\n",
    "        y_rand = y[rand_indices, :]\n",
    "        \n",
    "        objval = 0 # accumulate the objective values\n",
    "        for i in range(0,n,b): # only need to loop n/b times to use every sample\n",
    "            xi = x_rand[i:i+b, :] # b-by-d matrix\n",
    "            yi = y_rand[i:i+b, :] # b-by-1 vector\n",
    "            obj, g = mb_stochastic_objective_gradient(w, xi, yi, lam, b)\n",
    "            objval += obj\n",
    "            w -= stepsize * g\n",
    "        \n",
    "        stepsize *= 0.9 # decrease step size\n",
    "        objval /= (n//b) \n",
    "        objvals[t] = float(objval)\n",
    "        print('Objective value at epoch t=' + str(t) + ' is ' + str(objval))\n",
    "    \n",
    "    return w, objvals"
   ]
  },
  {
   "cell_type": "markdown",
   "metadata": {},
   "source": [
    "## 6.3. Run MB-SGD"
   ]
  },
  {
   "cell_type": "code",
   "execution_count": 19,
   "metadata": {},
   "outputs": [
    {
     "name": "stdout",
     "output_type": "stream",
     "text": [
      "Objective value at epoch t=0 is 0.5393536508804435\n",
      "Objective value at epoch t=1 is 0.47754442238523065\n",
      "Objective value at epoch t=2 is 0.47169851928437395\n",
      "Objective value at epoch t=3 is 0.4700192020323636\n",
      "Objective value at epoch t=4 is 0.46885377007646367\n",
      "Objective value at epoch t=5 is 0.46759211889683705\n",
      "Objective value at epoch t=6 is 0.46696179548041766\n",
      "Objective value at epoch t=7 is 0.4664715063081707\n",
      "Objective value at epoch t=8 is 0.46649212368374116\n",
      "Objective value at epoch t=9 is 0.4654445457022474\n",
      "Objective value at epoch t=10 is 0.4653835634021587\n",
      "Objective value at epoch t=11 is 0.46486976195719254\n",
      "Objective value at epoch t=12 is 0.4646003462262933\n",
      "Objective value at epoch t=13 is 0.46448844985263504\n",
      "Objective value at epoch t=14 is 0.4641665403361815\n",
      "Objective value at epoch t=15 is 0.46411644099062405\n",
      "Objective value at epoch t=16 is 0.4638473203980903\n",
      "Objective value at epoch t=17 is 0.4635937118870067\n",
      "Objective value at epoch t=18 is 0.4635856177885703\n",
      "Objective value at epoch t=19 is 0.46338439505412465\n",
      "Objective value at epoch t=20 is 0.46309463613394986\n",
      "Objective value at epoch t=21 is 0.46316622452573164\n",
      "Objective value at epoch t=22 is 0.46305747313572043\n",
      "Objective value at epoch t=23 is 0.4629733485069429\n",
      "Objective value at epoch t=24 is 0.462890344090217\n",
      "Objective value at epoch t=25 is 0.46281170538279\n",
      "Objective value at epoch t=26 is 0.4627145340645322\n",
      "Objective value at epoch t=27 is 0.4626709873262985\n",
      "Objective value at epoch t=28 is 0.4626460947573331\n",
      "Objective value at epoch t=29 is 0.46254989585487766\n",
      "Objective value at epoch t=30 is 0.46252116450839964\n",
      "Objective value at epoch t=31 is 0.46247031781168707\n",
      "Objective value at epoch t=32 is 0.4624473945459461\n",
      "Objective value at epoch t=33 is 0.46240503167951885\n",
      "Objective value at epoch t=34 is 0.46240752904080623\n",
      "Objective value at epoch t=35 is 0.4623413415367527\n",
      "Objective value at epoch t=36 is 0.46233136356440313\n",
      "Objective value at epoch t=37 is 0.46230805072391173\n",
      "Objective value at epoch t=38 is 0.4622807172478006\n",
      "Objective value at epoch t=39 is 0.46227055320673527\n",
      "Objective value at epoch t=40 is 0.4622617090866557\n",
      "Objective value at epoch t=41 is 0.46224789576591363\n",
      "Objective value at epoch t=42 is 0.462238028223178\n",
      "Objective value at epoch t=43 is 0.46222466879775376\n",
      "Objective value at epoch t=44 is 0.4622059851548522\n",
      "Objective value at epoch t=45 is 0.462204712381647\n",
      "Objective value at epoch t=46 is 0.4621885820056678\n",
      "Objective value at epoch t=47 is 0.46218125033602053\n",
      "Objective value at epoch t=48 is 0.4621804129519679\n",
      "Objective value at epoch t=49 is 0.46217222302638195\n",
      "Objective value at epoch t=50 is 0.4621704488916817\n",
      "Objective value at epoch t=51 is 0.462164849506045\n",
      "Objective value at epoch t=52 is 0.4621563377810688\n",
      "Objective value at epoch t=53 is 0.46215548300035936\n",
      "Objective value at epoch t=54 is 0.4621542149237782\n",
      "Objective value at epoch t=55 is 0.46215091308496614\n",
      "Objective value at epoch t=56 is 0.46214536172901255\n",
      "Objective value at epoch t=57 is 0.46214390934870114\n",
      "Objective value at epoch t=58 is 0.4621397459372725\n",
      "Objective value at epoch t=59 is 0.46213653502413654\n",
      "Objective value at epoch t=60 is 0.4621365748557352\n",
      "Objective value at epoch t=61 is 0.46213385947951624\n",
      "Objective value at epoch t=62 is 0.4621328778330026\n",
      "Objective value at epoch t=63 is 0.4621318374387152\n",
      "Objective value at epoch t=64 is 0.4621303511331374\n",
      "Objective value at epoch t=65 is 0.4621295804961897\n",
      "Objective value at epoch t=66 is 0.46212886460825586\n",
      "Objective value at epoch t=67 is 0.4621278068532262\n",
      "Objective value at epoch t=68 is 0.46212691827869506\n",
      "Objective value at epoch t=69 is 0.46212613645114314\n",
      "Objective value at epoch t=70 is 0.4621250833493278\n",
      "Objective value at epoch t=71 is 0.4621248896344383\n",
      "Objective value at epoch t=72 is 0.4621242069079817\n",
      "Objective value at epoch t=73 is 0.4621239209905913\n",
      "Objective value at epoch t=74 is 0.46212279608427753\n",
      "Objective value at epoch t=75 is 0.4621228928503204\n",
      "Objective value at epoch t=76 is 0.46212251948406957\n",
      "Objective value at epoch t=77 is 0.46212200912331464\n",
      "Objective value at epoch t=78 is 0.4621218024254592\n",
      "Objective value at epoch t=79 is 0.4621215327898816\n",
      "Objective value at epoch t=80 is 0.46212130184329203\n",
      "Objective value at epoch t=81 is 0.46212134054102244\n",
      "Objective value at epoch t=82 is 0.46212086355503185\n",
      "Objective value at epoch t=83 is 0.4621208419519852\n",
      "Objective value at epoch t=84 is 0.46212068757953784\n",
      "Objective value at epoch t=85 is 0.4621204943641494\n",
      "Objective value at epoch t=86 is 0.46212045935056956\n",
      "Objective value at epoch t=87 is 0.46212038438389724\n",
      "Objective value at epoch t=88 is 0.4621202025879187\n",
      "Objective value at epoch t=89 is 0.4621202090136151\n",
      "Objective value at epoch t=90 is 0.46212000254683183\n",
      "Objective value at epoch t=91 is 0.46212002031768895\n",
      "Objective value at epoch t=92 is 0.462119941372564\n",
      "Objective value at epoch t=93 is 0.4621198573388422\n",
      "Objective value at epoch t=94 is 0.4621198118196072\n",
      "Objective value at epoch t=95 is 0.46211980228676347\n",
      "Objective value at epoch t=96 is 0.4621197563431207\n",
      "Objective value at epoch t=97 is 0.4621197181914781\n",
      "Objective value at epoch t=98 is 0.46211963508383985\n",
      "Objective value at epoch t=99 is 0.4621196157747489\n"
     ]
    }
   ],
   "source": [
    "# MB-SGD with batch size b=8\n",
    "lam = 1E-6 # do not change\n",
    "b = 8 # do not change\n",
    "stepsize = 0.1 # you must tune this parameter\n",
    "\n",
    "w_mbsgd8, objvals_mbsgd8 = mb_sgd(x_train, y_train, lam, b, stepsize)"
   ]
  },
  {
   "cell_type": "code",
   "execution_count": 20,
   "metadata": {},
   "outputs": [
    {
     "name": "stdout",
     "output_type": "stream",
     "text": [
      "Objective value at epoch t=0 is 0.5391477454184357\n",
      "Objective value at epoch t=1 is 0.47682532237533704\n",
      "Objective value at epoch t=2 is 0.4733235990256984\n",
      "Objective value at epoch t=3 is 0.4677473211138123\n",
      "Objective value at epoch t=4 is 0.4685741905269377\n",
      "Objective value at epoch t=5 is 0.46767289435366965\n",
      "Objective value at epoch t=6 is 0.46616930525557443\n",
      "Objective value at epoch t=7 is 0.466104629521275\n",
      "Objective value at epoch t=8 is 0.46650195059580407\n",
      "Objective value at epoch t=9 is 0.4656706817199788\n",
      "Objective value at epoch t=10 is 0.46498853780915406\n",
      "Objective value at epoch t=11 is 0.465658473378462\n",
      "Objective value at epoch t=12 is 0.46446878259040975\n",
      "Objective value at epoch t=13 is 0.46501295598116926\n",
      "Objective value at epoch t=14 is 0.46484061923434183\n",
      "Objective value at epoch t=15 is 0.46316232289931375\n",
      "Objective value at epoch t=16 is 0.463889429423096\n",
      "Objective value at epoch t=17 is 0.4637173930318834\n",
      "Objective value at epoch t=18 is 0.4634298922951186\n",
      "Objective value at epoch t=19 is 0.46335016829817766\n",
      "Objective value at epoch t=20 is 0.4632848177421017\n",
      "Objective value at epoch t=21 is 0.463106086174617\n",
      "Objective value at epoch t=22 is 0.4629605166536092\n",
      "Objective value at epoch t=23 is 0.46314411726271576\n",
      "Objective value at epoch t=24 is 0.46287236036035856\n",
      "Objective value at epoch t=25 is 0.46266363539249084\n",
      "Objective value at epoch t=26 is 0.46284569226505673\n",
      "Objective value at epoch t=27 is 0.4625937729338621\n",
      "Objective value at epoch t=28 is 0.4626580429543652\n",
      "Objective value at epoch t=29 is 0.46269609492733166\n",
      "Objective value at epoch t=30 is 0.46249546336901365\n",
      "Objective value at epoch t=31 is 0.46253862015841507\n",
      "Objective value at epoch t=32 is 0.4624486729995656\n",
      "Objective value at epoch t=33 is 0.4624608892443991\n",
      "Objective value at epoch t=34 is 0.46241151110056117\n",
      "Objective value at epoch t=35 is 0.46235425530549357\n",
      "Objective value at epoch t=36 is 0.4623540328441728\n",
      "Objective value at epoch t=37 is 0.4623136889240266\n",
      "Objective value at epoch t=38 is 0.4622980167019972\n",
      "Objective value at epoch t=39 is 0.4622860798460929\n",
      "Objective value at epoch t=40 is 0.4623064403239131\n",
      "Objective value at epoch t=41 is 0.4622376822853832\n",
      "Objective value at epoch t=42 is 0.4622528337632691\n",
      "Objective value at epoch t=43 is 0.4622174232549757\n",
      "Objective value at epoch t=44 is 0.46221808505089496\n",
      "Objective value at epoch t=45 is 0.46218058709044774\n",
      "Objective value at epoch t=46 is 0.46219818109952915\n",
      "Objective value at epoch t=47 is 0.4621919755149836\n",
      "Objective value at epoch t=48 is 0.46216973535843636\n",
      "Objective value at epoch t=49 is 0.46219051978901293\n",
      "Objective value at epoch t=50 is 0.4621641111201803\n",
      "Objective value at epoch t=51 is 0.46217533542644196\n",
      "Objective value at epoch t=52 is 0.4621582816955076\n",
      "Objective value at epoch t=53 is 0.4621603604324348\n",
      "Objective value at epoch t=54 is 0.46215774529103787\n",
      "Objective value at epoch t=55 is 0.46215320139017735\n",
      "Objective value at epoch t=56 is 0.46214680911479855\n",
      "Objective value at epoch t=57 is 0.4621584048807\n",
      "Objective value at epoch t=58 is 0.46214181774691365\n",
      "Objective value at epoch t=59 is 0.4621365835234367\n",
      "Objective value at epoch t=60 is 0.4621316543657823\n",
      "Objective value at epoch t=61 is 0.46213528942090604\n",
      "Objective value at epoch t=62 is 0.4621305111064312\n",
      "Objective value at epoch t=63 is 0.4621290663975687\n",
      "Objective value at epoch t=64 is 0.46212983176789457\n",
      "Objective value at epoch t=65 is 0.4621292322659989\n",
      "Objective value at epoch t=66 is 0.4621294207746322\n",
      "Objective value at epoch t=67 is 0.46212455010957026\n",
      "Objective value at epoch t=68 is 0.4621256038641106\n",
      "Objective value at epoch t=69 is 0.46212435442621763\n",
      "Objective value at epoch t=70 is 0.46212333756411655\n",
      "Objective value at epoch t=71 is 0.4621248255317211\n",
      "Objective value at epoch t=72 is 0.4621235128664491\n",
      "Objective value at epoch t=73 is 0.4621236665299334\n",
      "Objective value at epoch t=74 is 0.4621228110111093\n",
      "Objective value at epoch t=75 is 0.4621229977172706\n",
      "Objective value at epoch t=76 is 0.4621220753016698\n",
      "Objective value at epoch t=77 is 0.4621214908705906\n",
      "Objective value at epoch t=78 is 0.4621218422264762\n",
      "Objective value at epoch t=79 is 0.4621213148087107\n",
      "Objective value at epoch t=80 is 0.4621213578721952\n",
      "Objective value at epoch t=81 is 0.46212077612066915\n",
      "Objective value at epoch t=82 is 0.4621208801761615\n",
      "Objective value at epoch t=83 is 0.4621206879164127\n",
      "Objective value at epoch t=84 is 0.4621200716656449\n",
      "Objective value at epoch t=85 is 0.4621206487258675\n",
      "Objective value at epoch t=86 is 0.46211990277931114\n",
      "Objective value at epoch t=87 is 0.46211993604998797\n",
      "Objective value at epoch t=88 is 0.46212019074207034\n",
      "Objective value at epoch t=89 is 0.46211975219706725\n",
      "Objective value at epoch t=90 is 0.4621196965110791\n",
      "Objective value at epoch t=91 is 0.4621195667035483\n",
      "Objective value at epoch t=92 is 0.4621195126703803\n",
      "Objective value at epoch t=93 is 0.46211967097962886\n",
      "Objective value at epoch t=94 is 0.462119489695669\n",
      "Objective value at epoch t=95 is 0.4621193937920444\n",
      "Objective value at epoch t=96 is 0.46211940578237487\n",
      "Objective value at epoch t=97 is 0.46211940038871147\n",
      "Objective value at epoch t=98 is 0.4621193453372704\n",
      "Objective value at epoch t=99 is 0.4621193374922048\n"
     ]
    }
   ],
   "source": [
    "# MB-SGD with batch size b=64\n",
    "lam = 1E-6 # do not change\n",
    "b = 64 # do not change\n",
    "stepsize = 0.9 # you must tune this parameter\n",
    "\n",
    "w_mbsgd64, objvals_mbsgd64 = mb_sgd(x_train, y_train, lam, b, stepsize)"
   ]
  },
  {
   "cell_type": "markdown",
   "metadata": {},
   "source": [
    "# 7. Plot and compare GD, SGD, and MB-SGD"
   ]
  },
  {
   "cell_type": "markdown",
   "metadata": {},
   "source": [
    "You are required to compare the following algorithms:\n",
    "\n",
    "- Gradient descent (GD)\n",
    "\n",
    "- SGD\n",
    "\n",
    "- MB-SGD with b=8\n",
    "\n",
    "- MB-SGD with b=64\n",
    "\n",
    "Follow the code in Section 4 to plot ```objective function value``` against ```epochs```. There should be four curves in the plot; each curve corresponds to one algorithm."
   ]
  },
  {
   "cell_type": "markdown",
   "metadata": {},
   "source": [
    "Hint: Logistic regression with $\\ell_2$-norm regularization is a strongly convex optimization problem. All the algorithms will converge to the same solution. **In the end, the ``objective function value`` of the 4 algorithms will be the same. If not the same, your implementation must be wrong. Do NOT submit wrong code and wrong result!**"
   ]
  },
  {
   "cell_type": "code",
   "execution_count": 21,
   "metadata": {},
   "outputs": [
    {
     "data": {
      "image/png": "[encoded data removed]",
      "text/plain": [
       "<Figure size 720x432 with 1 Axes>"
      ]
     },
     "metadata": {
      "needs_background": "light"
     },
     "output_type": "display_data"
    }
   ],
   "source": [
    "# plot the 4 curves:\n",
    "fig = plt.figure(figsize=(10, 6))\n",
    "\n",
    "epochs_gd = range(len(objvals_gd))\n",
    "epochs_sgd = range(len(objvals_sgd))\n",
    "epochs_mbsgd8 = range(len(objvals_mbsgd8))\n",
    "epochs_mbsgd64 = range(len(objvals_mbsgd64))\n",
    "\n",
    "line0, = plt.plot(epochs_gd, objvals_gd, '--b', linewidth=4)\n",
    "line1, = plt.plot(epochs_sgd, objvals_sgd, '-r', linewidth=2)\n",
    "line2, = plt.plot(epochs_mbsgd8, objvals_mbsgd8, '-.c', linewidth=3)\n",
    "line3, = plt.plot(epochs_mbsgd64, objvals_mbsgd64, ':g', linewidth=2.5)\n",
    "\n",
    "\n",
    "plt.xlabel('Epochs', fontsize=20)\n",
    "plt.ylabel('Objective Value', fontsize=20)\n",
    "plt.xticks(fontsize=16)\n",
    "plt.yticks(fontsize=16)\n",
    "plt.legend([line0, line1, line2, line3], ['GD', 'SGD', 'MB-SGD-8', 'MB-SGD-64'], fontsize=20)\n",
    "plt.tight_layout()\n",
    "plt.show()\n",
    "fig.savefig('compare_gd_sgd_mbsdg8_mbsgd64.pdf', format='pdf', dpi=1200)"
   ]
  },
  {
   "cell_type": "markdown",
   "metadata": {},
   "source": [
    "# 8. Prediction Results for MB-SGD"
   ]
  },
  {
   "cell_type": "code",
   "execution_count": 22,
   "metadata": {},
   "outputs": [
    {
     "name": "stdout",
     "output_type": "stream",
     "text": [
      "Training classification error for MB-SGD-8 is 0.2140625\n",
      "Training classification error for MB-SGD-64 is 0.2140625\n"
     ]
    }
   ],
   "source": [
    "# evaluate training errors\n",
    "f_train_mbsgd8 = predict(w_mbsgd8, x_train)\n",
    "f_train_mbsgd64 = predict(w_mbsgd8, x_train)\n",
    "\n",
    "diff_mbsg8 = numpy.abs(f_train_mbsgd8 - y_train) / 2\n",
    "diff_mbsg64 = numpy.abs(f_train_mbsgd64 - y_train) / 2\n",
    "\n",
    "error_train_mbsgd8 = numpy.mean(diff_mbsg8)\n",
    "error_train_mbsgd64 = numpy.mean(diff_mbsg64)\n",
    "\n",
    "print('Training classification error for MB-SGD-8 is ' + str(error_train_mbsgd8))\n",
    "print('Training classification error for MB-SGD-64 is ' + str(error_train_mbsgd64))"
   ]
  },
  {
   "cell_type": "code",
   "execution_count": 23,
   "metadata": {},
   "outputs": [
    {
     "name": "stdout",
     "output_type": "stream",
     "text": [
      "testing classification error for MB-SGD-8 is 0.2265625\n",
      "testing classification error for MB-SGD-64 is 0.2265625\n"
     ]
    }
   ],
   "source": [
    "# evaluate test errors\n",
    "f_test_mbsgd8 = predict(w_mbsgd8, x_test)\n",
    "f_test_mbsgd64 = predict(w_mbsgd8, x_test)\n",
    "\n",
    "diff_mbsg8 = numpy.abs(f_test_mbsgd8 - y_test) / 2\n",
    "diff_mbsg64 = numpy.abs(f_test_mbsgd64 - y_test) / 2\n",
    "\n",
    "error_test_mbsgd8 = numpy.mean(diff_mbsg8)\n",
    "error_test_mbsgd64 = numpy.mean(diff_mbsg64)\n",
    "\n",
    "print('testing classification error for MB-SGD-8 is ' + str(error_test_mbsgd8))\n",
    "print('testing classification error for MB-SGD-64 is ' + str(error_test_mbsgd64))"
   ]
  },
  {
   "cell_type": "markdown",
   "metadata": {},
   "source": []
  }
 ],
 "metadata": {
  "kernelspec": {
   "display_name": "CSDL",
   "language": "python",
   "name": "csdl"
  },
  "language_info": {
   "codemirror_mode": {
    "name": "ipython",
    "version": 3
   },
   "file_extension": ".py",
   "mimetype": "text/x-python",
   "name": "python",
   "nbconvert_exporter": "python",
   "pygments_lexer": "ipython3",
   "version": "3.8.5"
  }
 },
 "nbformat": 4,
 "nbformat_minor": 4
}
